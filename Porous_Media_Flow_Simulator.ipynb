{
 "cells": [
  {
   "cell_type": "markdown",
   "metadata": {},
   "source": [
    "# Porous Media Flow Simulator\n",
    "\n",
    "## Overview of the simulator\n",
    "\n",
    "\n",
    "\n",
    "- Discretization : uniform cartesian grid.\n",
    "- Fluids: single phase and two phase fluid flow.\n",
    "- Wells : injectors and producers wells.\n",
    "- Boundary conditions : Dirichlet constant pressure and no-flow bounday conditions.\n",
    "- Solving Methods : Lagging Coefficients Method (LCM) and Fully Implicit Method (FIM).\n",
    "- Linear solvers : direct and iterative solver.\n",
    "\n",
    "This simulator was done as a requirement for the class Advanced Reservoir Simulation. \n",
    "Before working on this simulator I used [Matlab Reserovir Simulation Toolbox (MRST)](https://www.sintef.no/projectweb/mrst/ \"MRST\") for a few weeks, some aspects of this simulator are inspired by the MRST. The idea for the `UnitRegistry` class,  I got it from  [pint](https://pint.readthedocs.io/en/0.6/tutorial.html)."
   ]
  },
  {
   "cell_type": "code",
   "execution_count": 11,
   "metadata": {
    "collapsed": false
   },
   "outputs": [],
   "source": [
    "#%matplotlib inline\n",
    "from modules.simulator.simulator import *\n",
    "from modules.simulator.two_phase_flow import *\n",
    "from modules.simulator.simplots import *\n",
    "from modules.simulator.units import UnitRegistry\n",
    "import numpy as np\n",
    "from time import process_time\n",
    "import os\n",
    "import time"
   ]
  },
  {
   "cell_type": "markdown",
   "metadata": {},
   "source": [
    "## Example 1: Single phase flow\n",
    "\n",
    "### Units and constants\n",
    "There are two classes to help us manage the units, the **UnitRegistry** and **Constants** We can input the variables values in the International Sytem Units (SI) or in Filed Units, they are converted to SI units. The output of the simulator is also in SI units and then it can be converted to the desired units with the help of the module."
   ]
  },
  {
   "cell_type": "code",
   "execution_count": 7,
   "metadata": {
    "collapsed": false
   },
   "outputs": [
    {
     "name": "stdout",
     "output_type": "stream",
     "text": [
      "Distance is 3.000 meters\n",
      "Distance is 0.914 meters\n",
      "Permeabiliy is 9.869E-16 Pa-s\n"
     ]
    }
   ],
   "source": [
    "# New units registry\n",
    "u = UnitRegistry()\n",
    "\n",
    "distance = 3 * u.meter\n",
    "print (\"Distance is {:.3f} meters\".format(distance))\n",
    "\n",
    "# The units are converted to SI\n",
    "distance = 3 * u.feet\n",
    "print (\"Distance is {:.3f} meters\".format(distance))\n",
    "\n",
    "# The units can be mixed together \n",
    "perm = 1 * u.milli * u.darcy\n",
    "print(\"Permeabiliy is {:.3E} Pa-s\".format(perm))"
   ]
  },
  {
   "cell_type": "markdown",
   "metadata": {},
   "source": [
    "### Grid "
   ]
  },
  {
   "cell_type": "code",
   "execution_count": 8,
   "metadata": {
    "collapsed": false
   },
   "outputs": [
    {
     "name": "stdout",
     "output_type": "stream",
     "text": [
      "Number of cells 900.\n",
      "Cell size [ 9.144  9.144  9.144] meters.\n",
      "Cell volume 764.555 m^3\n",
      "Grid dimensions [15 15  4]\n"
     ]
    }
   ],
   "source": [
    "# Create grid\n",
    "# Number of cells in each direction\n",
    "Nx, Ny, Nz = np.array([15, 15, 4])\n",
    "# Dimension of each cell\n",
    "Sx, Sy, Sz = np.array([30, 30, 30]) * u.feet\n",
    "# Depth of each cell\n",
    "depth = np.hstack((Sz * 3 * np.ones([Nx * Ny, ]),\n",
    "                   Sz * 2 * np.ones([Nx * Ny, ]),\n",
    "                   Sz  * 1 * np.ones([Nx * Ny, ]),\n",
    "                   Sz * 0 * np.ones([Nx * Ny, ])))\n",
    "\n",
    "grid = uniformCartesianGrid(Nx, Ny, Nz, Sx, Sy, Sz, depth)\n",
    "\n",
    "print(\"Number of cells {}.\".format(grid.cellnumber))\n",
    "print(\"Cell size {} meters.\".format(grid.cellsize))\n",
    "print(\"Cell volume {:.3f} m^3\".format(grid.cellvolume))\n",
    "print(\"Grid dimensions {}\".format(grid.dim))"
   ]
  },
  {
   "cell_type": "markdown",
   "metadata": {},
   "source": [
    "\n",
    "### Rock"
   ]
  },
  {
   "cell_type": "code",
   "execution_count": 9,
   "metadata": {
    "collapsed": false
   },
   "outputs": [],
   "source": [
    "# Create rock\n",
    "# Randowm porosiy and permeability fields.\n",
    "poro = np.random.random_sample(grid.cellnumber)\n",
    "perm = 10 * np.random.random_sample(grid.cellnumber) * u.milli * u.darcy\n",
    "\n",
    "# Rock compressibility is equal  and constant for all cells.\n",
    "cr = 3E-6 / u.psi\n",
    "# The porosity is a function of rock compressibility\n",
    "porofunc = lambda p: poro * np.exp(cr * (p - 2800 * u.psi))\n",
    "rock = Rock(perm, poro, cr, porofunc)"
   ]
  },
  {
   "cell_type": "markdown",
   "metadata": {},
   "source": [
    "## Fluid\n",
    "There are two classes to specify a fluid in the simulator, `singleFluid` and `blackOil`. \n",
    "\n",
    "- #### Single phase flow\n",
    "`singleFluid` is for a single phase fluid with constant compressibility. The other properties, viscosity, density and formation volume factor, are expressed as a function of pressure.\n",
    "\n"
   ]
  },
  {
   "cell_type": "code",
   "execution_count": 23,
   "metadata": {
    "collapsed": false
   },
   "outputs": [],
   "source": [
    "#Example for water\n",
    "cf = 5E-5 / u.psi\n",
    "# The functions should be in the correct units\n",
    "miu = lambda p:  1.0 * np.exp(5E-5 * (p/u.psi -2800)) * u.centi * u.poise\n",
    "rho = lambda p: 1000 * np.exp(cf * (p - 15 * u.psi) )  * u.kilogram/ u.meter**3\n",
    "fvf = lambda p: 1.0 * np.exp(- cf * (p - 15 * u.psi) )   # adimensional\n",
    "fluid = singleFluid(miu, rho, fvf, cf)"
   ]
  },
  {
   "cell_type": "markdown",
   "metadata": {},
   "source": [
    "- #### Two phase flow\n",
    "The class `blackOil` implements a two phase fluid, one phase being water and the other oil. The class is called `blackOil` even tough it is lacking support for gas flow."
   ]
  },
  {
   "cell_type": "code",
   "execution_count": 13,
   "metadata": {
    "collapsed": true
   },
   "outputs": [],
   "source": [
    "# Example for water and oil flow\n"
   ]
  },
  {
   "cell_type": "markdown",
   "metadata": {},
   "source": [
    "## Plotting functions\n",
    "\n",
    "The `simplots` module has several functions to plot the data that is generated with the simulator. These functions save the images to the specified folder. For example,  `plotCellValueS2D`, plots each individual layer as a subplot."
   ]
  },
  {
   "cell_type": "code",
   "execution_count": 14,
   "metadata": {
    "collapsed": false
   },
   "outputs": [
    {
     "name": "stderr",
     "output_type": "stream",
     "text": [
      "C:\\Users\\Jaime\\Anaconda3\\lib\\site-packages\\matplotlib\\figure.py:1718: UserWarning: This figure includes Axes that are not compatible with tight_layout, so its results might be incorrect.\n",
      "  warnings.warn(\"This figure includes Axes that are not \"\n"
     ]
    }
   ],
   "source": [
    "# Plot rock properties\n",
    "plotCellValues2D(grid, rock.poro, 'viridis', \n",
    "                 np.min(rock.poro), np.max(rock.poro), \n",
    "                 title='Porosity', filename = \".\\images\\poro\")\n",
    "\n",
    "permtoplot = np.log(rock.perm/u.darcy/u.milli)\n",
    "plotCellValues2D(grid, permtoplot, 'magma', np.min(permtoplot), np.max(permtoplot), \n",
    "  title='Permeability [log(mD)]', filename = \".\\images\\perm\")"
   ]
  },
  {
   "cell_type": "markdown",
   "metadata": {
    "collapsed": false
   },
   "source": [
    "<img src=\".\\images\\poro.png\">\n",
    "<img src=\".\\images\\perm.png\">"
   ]
  },
  {
   "cell_type": "markdown",
   "metadata": {},
   "source": [
    "## Wells\n",
    "\n",
    "The simulator only support vertical wells that are located in the center of a cell and completed in one single layer. The producer wells are specified by setting the bottom hole pressure (bhp) and the injector wells by setting the injection rate.\n",
    "For this example, there is one  injector and two producers."
   ]
  },
  {
   "cell_type": "code",
   "execution_count": 15,
   "metadata": {
    "collapsed": false
   },
   "outputs": [],
   "source": [
    "#W = Wells(grid, rock, fluid)"
   ]
  },
  {
   "cell_type": "markdown",
   "metadata": {
    "collapsed": true
   },
   "source": [
    "## Boundary Conditions\n",
    "By defaul, all the boundaries of the reservoir have a no-flow condition. With the `fuction` we can also set a constant pressure condition in a boundary. Currently, the function ony works with the Lagging Cofficient Method."
   ]
  },
  {
   "cell_type": "code",
   "execution_count": null,
   "metadata": {
    "collapsed": false
   },
   "outputs": [],
   "source": []
  },
  {
   "cell_type": "markdown",
   "metadata": {
    "collapsed": false
   },
   "source": [
    "## Well schedule\n",
    "With the well schedule we can set the rate and the pressure of each well."
   ]
  },
  {
   "cell_type": "code",
   "execution_count": null,
   "metadata": {
    "collapsed": true
   },
   "outputs": [],
   "source": []
  },
  {
   "cell_type": "code",
   "execution_count": 16,
   "metadata": {
    "collapsed": true
   },
   "outputs": [],
   "source": [
    "## Solver"
   ]
  },
  {
   "cell_type": "code",
   "execution_count": null,
   "metadata": {
    "collapsed": true
   },
   "outputs": [],
   "source": []
  },
  {
   "cell_type": "code",
   "execution_count": 17,
   "metadata": {
    "collapsed": true
   },
   "outputs": [],
   "source": [
    "## Visualizing the results\n"
   ]
  },
  {
   "cell_type": "markdown",
   "metadata": {},
   "source": [
    "## Example 2: Two phase flow"
   ]
  },
  {
   "cell_type": "markdown",
   "metadata": {
    "collapsed": true
   },
   "source": [
    "## Conclusion\n",
    "\n",
    "## Notes \n",
    "This reservoir simulator was developed as a final project for the class Advanced Reservoir Simulation 696.\n",
    "\n",
    "## References\n",
    "Gong, X., Gonzalez, R., McVay, D. A., & Hart, J. D. (2014, December 1). Bayesian Probabilistic Decline-Curve Analysis Reliably Quantifies Uncertainty in Shale-Well-Production Forecasts. Society of Petroleum Engineers. doi:10.2118/147588-PA\n"
   ]
  },
  {
   "cell_type": "code",
   "execution_count": 1,
   "metadata": {
    "collapsed": false
   },
   "outputs": [
    {
     "data": {
      "text/html": [
       "<link href='http://fonts.googleapis.com/css?family=Fenix' rel='stylesheet' type='text/css'>\n",
       "<link href='http://fonts.googleapis.com/css?family=Alegreya+Sans:100,300,400,500,700,800,900,100italic,300italic,400italic,500italic,700italic,800italic,900italic' rel='stylesheet' type='text/css'>\n",
       "<link href='http://fonts.googleapis.com/css?family=Source+Code+Pro:300,400' rel='stylesheet' type='text/css'>\n",
       "<style>\n",
       "    @font-face {\n",
       "        font-family: \"Computer Modern\";\n",
       "        src: url('http://mirrors.ctan.org/fonts/cm-unicode/fonts/otf/cmunss.otf');\n",
       "    }\n",
       "    div.cell{\n",
       "        width:800px;\n",
       "        margin-left:16% !important;\n",
       "        margin-right:auto;\n",
       "    }\n",
       "    h1 {\n",
       "        font-family: 'Alegreya Sans', sans-serif;\n",
       "    }\n",
       "    h2 {\n",
       "        font-family: 'Fenix', serif;\n",
       "    }\n",
       "    h3{\n",
       "\t\tfont-family: 'Fenix', serif;\n",
       "        margin-top:12px;\n",
       "        margin-bottom: 3px;\n",
       "       }\n",
       "\th4{\n",
       "\t\tfont-family: 'Fenix', serif;\n",
       "       }\n",
       "    h5 {\n",
       "        font-family: 'Alegreya Sans', sans-serif;\n",
       "    }\t   \n",
       "    div.text_cell_render{\n",
       "        font-family: 'Alegreya Sans',Computer Modern, \"Helvetica Neue\", Arial, Helvetica, Geneva, sans-serif;\n",
       "        line-height: 135%;\n",
       "        font-size: 120%;\n",
       "        width:600px;\n",
       "        margin-left:auto;\n",
       "        margin-right:auto;\n",
       "    }\n",
       "    .CodeMirror{\n",
       "            font-family: \"Source Code Pro\";\n",
       "\t\t\tfont-size: 90%;\n",
       "    }\n",
       "/*    .prompt{\n",
       "        display: None;\n",
       "    }*/\n",
       "    .text_cell_render h1 {\n",
       "        font-weight: 200;\n",
       "        font-size: 50pt;\n",
       "\t\tline-height: 100%;\n",
       "        color:#CD2305;\n",
       "        margin-bottom: 0.5em;\n",
       "        margin-top: 0.5em;\n",
       "        display: block;\n",
       "    }\t\n",
       "    .text_cell_render h5 {\n",
       "        font-weight: 300;\n",
       "        font-size: 16pt;\n",
       "        color: #CD2305;\n",
       "        font-style: italic;\n",
       "        margin-bottom: .5em;\n",
       "        margin-top: 0.5em;\n",
       "        display: block;\n",
       "    }\n",
       "    \n",
       "    .warning{\n",
       "        color: rgb( 240, 20, 20 )\n",
       "        }  \n",
       "</style>\n",
       "<script>\n",
       "    MathJax.Hub.Config({\n",
       "                        TeX: {\n",
       "                           extensions: [\"AMSmath.js\"]\n",
       "                           },\n",
       "                tex2jax: {\n",
       "                    inlineMath: [ ['$','$'], [\"\\\\(\",\"\\\\)\"] ],\n",
       "                    displayMath: [ ['$$','$$'], [\"\\\\[\",\"\\\\]\"] ]\n",
       "                },\n",
       "                displayAlign: 'center', // Change this to 'center' to center equations.\n",
       "                \"HTML-CSS\": {\n",
       "                    styles: {'.MathJax_Display': {\"margin\": 4}}\n",
       "                }\n",
       "        });\n",
       "</script>\n",
       "\n"
      ],
      "text/plain": [
       "<IPython.core.display.HTML object>"
      ]
     },
     "execution_count": 1,
     "metadata": {},
     "output_type": "execute_result"
    }
   ],
   "source": [
    "from IPython.core.display import HTML\n",
    "def css_styling():\n",
    "    styles = open(\"./styles/custom.css\", \"r\").read()\n",
    "    return HTML(styles)\n",
    "css_styling()\n",
    "\n",
    "# Using the style sheet found here  Lorena Barba /* https://github.com/barbagroup/CFDPython/blob/master/styles/custom.css */"
   ]
  },
  {
   "cell_type": "code",
   "execution_count": null,
   "metadata": {
    "collapsed": true
   },
   "outputs": [],
   "source": []
  },
  {
   "cell_type": "code",
   "execution_count": null,
   "metadata": {
    "collapsed": true
   },
   "outputs": [],
   "source": []
  },
  {
   "cell_type": "code",
   "execution_count": null,
   "metadata": {
    "collapsed": true
   },
   "outputs": [],
   "source": []
  }
 ],
 "metadata": {
  "kernelspec": {
   "display_name": "Python 3",
   "language": "python",
   "name": "python3"
  },
  "language_info": {
   "codemirror_mode": {
    "name": "ipython",
    "version": 3
   },
   "file_extension": ".py",
   "mimetype": "text/x-python",
   "name": "python",
   "nbconvert_exporter": "python",
   "pygments_lexer": "ipython3",
   "version": "3.5.1"
  }
 },
 "nbformat": 4,
 "nbformat_minor": 0
}
