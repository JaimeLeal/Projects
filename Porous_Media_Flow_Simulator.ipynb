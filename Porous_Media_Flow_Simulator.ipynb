{
 "cells": [
  {
   "cell_type": "markdown",
   "metadata": {},
   "source": [
    "# Porous Media Flow Simulator\n",
    "\n",
    "\n",
    "This is a porous media flow simulator that I made. It is used to simulate flow in a reservoir. \n",
    "The simulator can handle single phase and two phase flow, as well as vertical wells, boundary conditions and different solvers. Here I will give an overview of the simulator. Examples of the simulator in action can be found \n",
    "<a href =/notebooks/Simulator_One_Phase_Flow.html target=_blank> here for Single Phase </a> and <a href = /notebooks/Simulator_Two_Phase_Flow.html target = _blank>here for Two Phase Flow.</a> \n",
    "\n",
    "This reservoir simulator was developed as a final project for the class \"Advanced Numerical Methods for Reservoir Simulation\". \n",
    "Before working on this simulator I had some experience with [Matlab Reserovir Simulation Toolbox (MRST)](https://www.sintef.no/projectweb/mrst/ \"MRST\") , and some aspects of my simulator were inspired by it. The idea for the `UnitRegistry` class,  I got it from  [pint](https://pint.readthedocs.io/en/0.6/tutorial.html).\n",
    "\n",
    "The simulator consists of four modules. Two simulator modules, `simulator.py` and `two_phase_flow.py`, one plotting module `simplots.py`, and one units and constants module, `units.py`.  \n",
    "\n",
    "<img src = \".\\images\\ex2.gif\">"
   ]
  },
  {
   "cell_type": "markdown",
   "metadata": {},
   "source": [
    "<a id='table'></a>"
   ]
  },
  {
   "cell_type": "markdown",
   "metadata": {},
   "source": [
    "## Table of contents\n",
    "- [Units](#units)\n",
    "- [Grid](#grid)\n",
    "- [Rock](#rock)\n",
    "- [Fluids: single phase and two phase fluids.](#fluid)\n",
    "- [Plotting module](#plots)\n",
    "- [Wells : injectors and producers.](#wells)\n",
    "- [Boundary conditions](#boundary)\n",
    "- [Solvers](#solvers)\n",
    "- [Examples](#examples)"
   ]
  },
  {
   "cell_type": "code",
   "execution_count": 1,
   "metadata": {
    "collapsed": false,
    "scrolled": false
   },
   "outputs": [],
   "source": [
    "from modules.simulator.simulator import *\n",
    "from modules.simulator.two_phase_flow import *\n",
    "from modules.simulator.simplots import *\n",
    "from modules.simulator.units import UnitRegistry\n",
    "import numpy as np"
   ]
  },
  {
   "cell_type": "markdown",
   "metadata": {},
   "source": [
    "<a id='units'></a>"
   ]
  },
  {
   "cell_type": "markdown",
   "metadata": {},
   "source": [
    "## [Units](#table)\n",
    "\n",
    "There are two classes in the `units` module, the `UnitRegistry` and `Constants`.\n",
    "The `UnitRegistry` allows us to input the parameters in the International System of Units (SI) or in Field Units. All inputs are converted automatically to SI. The output of the simulator is also in SI units, and then it can be converted to the desired units with the help of this module.\n",
    "\n",
    "The `Constants` class is used internally by the simulator, and contains physical constants such as gravity."
   ]
  },
  {
   "cell_type": "code",
   "execution_count": 2,
   "metadata": {
    "collapsed": false,
    "scrolled": false
   },
   "outputs": [
    {
     "name": "stdout",
     "output_type": "stream",
     "text": [
      "Distance is 3.000 meters\n",
      "3.000 feet are 0.914 meters\n",
      "Centi: 0.010000\n",
      "1 millidarcy is 9.869E-16 Pa-s\n"
     ]
    }
   ],
   "source": [
    "# New units registry\n",
    "u = UnitRegistry()\n",
    "\n",
    "distance = 3 * u.meter\n",
    "print (\"Distance is {:.3f} meters\".format(distance))\n",
    "\n",
    "# The units are converted to SI\n",
    "distance = 3 * u.feet\n",
    "print (\"{:.3f} feet are {:.3f} meters\".format(3, distance))\n",
    "\n",
    "# There are prefixes\n",
    "print(\"Centi: {:f}\".format(u.centi))\n",
    "\n",
    "# The units can be mixed together. \n",
    "perm = 1 * u.milli * u.darcy\n",
    "print(\"1 millidarcy is {:.3E} Pa-s\".format(perm))"
   ]
  },
  {
   "cell_type": "markdown",
   "metadata": {},
   "source": [
    "<a id='grid'></a>"
   ]
  },
  {
   "cell_type": "markdown",
   "metadata": {},
   "source": [
    "## [Grid](#table)\n",
    "\n",
    "The discretization of the partial differential equations was done using finite differences over a uniform Cartesian grid. To specify the grid we use an instance of the class `uniformCartesianGrid`. We can create a grid with any number of layers."
   ]
  },
  {
   "cell_type": "code",
   "execution_count": 3,
   "metadata": {
    "collapsed": false,
    "scrolled": false
   },
   "outputs": [],
   "source": [
    "# Create grid with 6 layers\n",
    "\n",
    "# Number of cells in each direction\n",
    "Nx, Ny, Nz = np.array([15, 15, 6])\n",
    "# Dimension of each cell\n",
    "Sx, Sy, Sz = np.array([30, 30, 30]) * u.feet\n",
    "# Depth of each cell\n",
    "depth = np.hstack((Sz * 5 * np.ones([Nx * Ny, ]),\n",
    "                   Sz * 4 * np.ones([Nx * Ny, ]),\n",
    "                   Sz * 3 * np.ones([Nx * Ny, ]),\n",
    "                   Sz * 2 * np.ones([Nx * Ny, ]),\n",
    "                   Sz * 1 * np.ones([Nx * Ny, ]),\n",
    "                   Sz * 0 * np.ones([Nx * Ny, ])))\n",
    "\n",
    "grid = uniformCartesianGrid(Nx, Ny, Nz, Sx, Sy, Sz, depth)"
   ]
  },
  {
   "cell_type": "markdown",
   "metadata": {},
   "source": [
    "<a id='rock'></a>"
   ]
  },
  {
   "cell_type": "markdown",
   "metadata": {},
   "source": [
    "## [Rock](#table) \n",
    "The characteristics of the rock are set in a `Rock` object. The rock has a constant compressibility for all the cells. The porosity and permeability fields are numpy arrays with the property value for each cell. And there is a parameter for the porosity as a function of compressibility. "
   ]
  },
  {
   "cell_type": "code",
   "execution_count": 4,
   "metadata": {
    "collapsed": false,
    "scrolled": false
   },
   "outputs": [],
   "source": [
    "# Create rock\n",
    "# Random porosiy and permeability fields.\n",
    "poro = np.random.random_sample(grid.cellnumber)\n",
    "perm = 10 * np.random.random_sample(grid.cellnumber) * u.milli * u.darcy\n",
    "\n",
    "# Rock compressibility is equal  and constant for all cells.\n",
    "cr = 3E-6 / u.psi\n",
    "# The porosity is a function of rock compressibility\n",
    "porofunc = lambda p: poro * np.exp(cr * (p - 2800 * u.psi))\n",
    "rock = Rock(perm, poro, cr, porofunc)"
   ]
  },
  {
   "cell_type": "markdown",
   "metadata": {},
   "source": [
    "<a id='fluid'></a>"
   ]
  },
  {
   "cell_type": "markdown",
   "metadata": {},
   "source": [
    "\n",
    "## [Fluid](#table)\n",
    "There are two classes to specify a fluid in the simulator, `singleFluid` and `blackOil`.\n",
    "\n",
    "### Single phase flow\n",
    "\n",
    "`singleFluid` is for a single phase fluid with constant compressibility. The other properties, viscosity, density and formation volume factor, are functions and are provided by the user. The only requirement is that they are a function of pressure in Pascals."
   ]
  },
  {
   "cell_type": "code",
   "execution_count": 5,
   "metadata": {
    "collapsed": false,
    "scrolled": false
   },
   "outputs": [],
   "source": [
    "#Example fluid\n",
    "cf = 5E-5 / u.psi\n",
    "# The functions should be in the correct units\n",
    "miu = lambda p:  1.0 * np.exp(5E-5 * (p/u.psi - 2800)) * u.centi * u.poise\n",
    "rho = lambda p: 800 * np.exp(cf * (p - 15 * u.psi) )  * u.kilogram/ u.meter**3\n",
    "fvf = lambda p: 1.0 * np.exp(- cf * (p - 15 * u.psi) )   # adimensional\n",
    "fluid = singleFluid(miu, rho, fvf, cf)"
   ]
  },
  {
   "cell_type": "markdown",
   "metadata": {},
   "source": [
    "### Two phase flow\n",
    "The class `blackOil` implements a two phase fluid, with the first phase being oil and the second one being water .The class is called `blackOil` even tough it is lacking support for gas flow. The parameters of the object are tuples of the viscosity, permeability, formation volume factor, and compressibility of the liquid. As wells as a function for the capillary pressure.\n",
    "\n",
    "`fluid = blackOil((miu_o, miu_w), (rho_o, rho_w), (fvf_o, fvf_w), (cf_o, cf_w),(krofunc, krwfunc), pc)`\n",
    "\n",
    "\n",
    "Just as with the `singleFluid`, the compressibility is a constant and viscosity, density and formation volume factor are functions of pressure. Relative permeability and capillary pressure are functions of water saturation."
   ]
  },
  {
   "cell_type": "markdown",
   "metadata": {},
   "source": [
    "<a id='plots'></a>"
   ]
  },
  {
   "cell_type": "markdown",
   "metadata": {},
   "source": [
    "## [Plotting  module](#table)\n",
    "\n",
    "The `simplots` module has several functions to plot the data that is generated with the simulator. These functions save the images to a folder specified by the user. For example,  `plotCellValueS2D`, plots each individual layer as a subplot with a single color bar. This function can be used to plot rock properties,  and pressure and saturation distribution in the reservoir."
   ]
  },
  {
   "cell_type": "code",
   "execution_count": 6,
   "metadata": {
    "collapsed": false,
    "scrolled": false
   },
   "outputs": [
    {
     "name": "stderr",
     "output_type": "stream",
     "text": [
      "C:\\Users\\Jaime\\Anaconda3\\lib\\site-packages\\matplotlib\\figure.py:1718: UserWarning: This figure includes Axes that are not compatible with tight_layout, so its results might be incorrect.\n",
      "  warnings.warn(\"This figure includes Axes that are not \"\n"
     ]
    }
   ],
   "source": [
    "# Plot the rock porosity\n",
    "plotCellValues2D(grid, rock.poro, 'viridis', \n",
    "                 np.min(rock.poro), np.max(rock.poro), \n",
    "                 title='Porosity', filename = \".\\images\\poro\")"
   ]
  },
  {
   "cell_type": "markdown",
   "metadata": {},
   "source": [
    "<img src=\".\\images\\poro.png\">"
   ]
  },
  {
   "cell_type": "markdown",
   "metadata": {},
   "source": [
    "<a id='wells'></a>"
   ]
  },
  {
   "cell_type": "markdown",
   "metadata": {},
   "source": [
    "## [Wells: injectors and producers](#table)\n",
    "\n",
    "We can also add vertical wells to the reservoir. The producer wells are specified by setting the bottom hole pressure (bhp) and the injector wells are handled as point source terms  by specifying the injection rate. The source term is a numpy array with dimensions of `[cellnumber * phasenumber, 1]`.\n",
    "\n",
    "For this example, we will create a `Wells` object with one  injector in cell zero, and a source term corresponding to one producer in the opposite corner."
   ]
  },
  {
   "cell_type": "code",
   "execution_count": 7,
   "metadata": {
    "collapsed": false,
    "scrolled": false
   },
   "outputs": [],
   "source": [
    "# First we initialize the Wells\n",
    "W = Wells(grid, rock, fluid)\n",
    "\n",
    "# Producer\n",
    "rw = 0.3 * u.feet\n",
    "location = 0\n",
    "bhp = 2500 * u.psi\n",
    "skin = 0\n",
    "\n",
    "W.add_vertical_well(rw, location, bhp, skin)\n",
    "\n",
    "# Injector\n",
    "source = np.zeros([grid.cellnumber, 1])\n",
    "i = grid.dim[0] * grid.dim[1] - 1\n",
    "# We are injecting 10 barrel per hour\n",
    "source[i] = 10 * u.barrel / u.hour"
   ]
  },
  {
   "cell_type": "markdown",
   "metadata": {},
   "source": [
    "<a id='boundary'></a>"
   ]
  },
  {
   "cell_type": "markdown",
   "metadata": {
    "collapsed": true
   },
   "source": [
    "## [Boundary Conditions](#table)\n",
    "By default, all the boundaries of the reservoir are no-flow boundaries. With the  `Boundary` class we can also set a constant pressure condition in any face of the reservoir. Currently, the function only works with the Lagging Coefficient Method. With any other solver the boundaries can only be no-flow boundaries."
   ]
  },
  {
   "cell_type": "code",
   "execution_count": 8,
   "metadata": {
    "collapsed": false,
    "scrolled": false
   },
   "outputs": [],
   "source": [
    "# Initialize \n",
    "boundary = Boundary()\n",
    "# North side of reservoir has a constant  pressure of 2300 psi\n",
    "boundary.set_boundary_condition('N', 'constant-pressure', 2300 * u.psi)"
   ]
  },
  {
   "cell_type": "markdown",
   "metadata": {},
   "source": [
    "<a id='solvers'></a>"
   ]
  },
  {
   "cell_type": "markdown",
   "metadata": {
    "collapsed": true
   },
   "source": [
    "## [Solvers](#table)\n",
    "\n",
    "There are Lagging Coefficient and Fully Implicit solvers for the single phase flow and the two phase flow cases. This is the full list of the solvers:\n",
    "\n",
    "- ImplicitAnalytic\n",
    "- ImplicitNumerical\n",
    "- ImplicitTwoPhase\n",
    "- LaggingCoefficients\n",
    "- LaggingCoefficientsTwoPhase\n",
    "\n",
    "** Initializing the solver**\n",
    "Before using the solver we need to initialize it as follows: \n",
    "\n",
    "`solver = ImplicitAnalytic(grid, rock, fluid, wells, source, p_init, boundary)`\n",
    "\n",
    "Where, `p_init` is the initial pressure distribution in the reservoir. In the case of the two phase flow, we also need to specify the initial water saturation distribution.\n",
    "\n",
    "** Running the simulation **\n",
    "To run the solver we need a `Schedule` that contains the timesteps we want to simulate. \n",
    "\n",
    "`solver.solve(sch)`"
   ]
  },
  {
   "cell_type": "code",
   "execution_count": 9,
   "metadata": {
    "collapsed": false,
    "scrolled": true
   },
   "outputs": [
    {
     "name": "stdout",
     "output_type": "stream",
     "text": [
      " \t Inner loop 3 / 5"
     ]
    }
   ],
   "source": [
    "# Initial pressure distribution\n",
    "p_init = 3000 *u.psi * np.ones(grid.cellnumber)\n",
    "# Initialize solver\n",
    "solver = LaggingCoefficients(grid, rock, fluid, W, source, p_init, boundary)\n",
    "\n",
    "#Schedule\n",
    "timesteps = 1 * np.ones(5) * u.day\n",
    "sch = Schedule(timesteps)\n",
    "# Run simulation\n",
    "r = solver.solve(sch)\n",
    "# Convert pressure in pascals to psi\n",
    "p = r[0]/u.psi"
   ]
  },
  {
   "cell_type": "code",
   "execution_count": 10,
   "metadata": {
    "collapsed": false,
    "scrolled": false
   },
   "outputs": [
    {
     "name": "stderr",
     "output_type": "stream",
     "text": [
      "C:\\Users\\Jaime\\Anaconda3\\lib\\site-packages\\matplotlib\\figure.py:1718: UserWarning: This figure includes Axes that are not compatible with tight_layout, so its results might be incorrect.\n",
      "  warnings.warn(\"This figure includes Axes that are not \"\n"
     ]
    }
   ],
   "source": [
    "# Plot the pressure distribution in the last timestep\n",
    "plotCellValues2D(grid, p[:,5], 'inferno', np.min(p), np.max(p), \n",
    "                 title='Pressure', filename = \".\\images\\pressure\")"
   ]
  },
  {
   "cell_type": "markdown",
   "metadata": {},
   "source": [
    "<img src=\".\\images\\pressure.png\">"
   ]
  },
  {
   "cell_type": "markdown",
   "metadata": {
    "collapsed": true
   },
   "source": [
    "<a id='examples'></a>"
   ]
  },
  {
   "cell_type": "markdown",
   "metadata": {
    "collapsed": true
   },
   "source": [
    "## [Examples](#table)\n",
    "\n",
    "\n",
    "You can check the following links to see various simulation examples with one phase and two phase flow.\n",
    "\n",
    "- [Single Phase Flow Examples](/notebooks/Simulator_One_Phase_Flow.html) \n",
    "    \n",
    "- [Two Phase Flow Examples](/notebooks/Simulator_Two_Phase_Flow.html)"
   ]
  },
  {
   "cell_type": "code",
   "execution_count": 1,
   "metadata": {
    "collapsed": false,
    "scrolled": false
   },
   "outputs": [
    {
     "data": {
      "text/html": [
       "<link href='http://fonts.googleapis.com/css?family=Fenix' rel='stylesheet' type='text/css'>\n",
       "<link href='http://fonts.googleapis.com/css?family=Alegreya+Sans:100,300,400,500,700,800,900,100italic,300italic,400italic,500italic,700italic,800italic,900italic' rel='stylesheet' type='text/css'>\n",
       "<link href='http://fonts.googleapis.com/css?family=Source+Code+Pro:300,400' rel='stylesheet' type='text/css'>\n",
       "<style>\n",
       "    @font-face {\n",
       "        font-family: \"Computer Modern\";\n",
       "        src: url('http://mirrors.ctan.org/fonts/cm-unicode/fonts/otf/cmunss.otf');\n",
       "    }\n",
       "    div.cell{\n",
       "        width:800px;\n",
       "        margin-left:16% !important;\n",
       "        margin-right:auto;\n",
       "    }\n",
       "    h1 {\n",
       "        font-family: 'Alegreya Sans', sans-serif;\n",
       "    }\n",
       "    h2 {\n",
       "        font-family: 'Fenix', serif;\n",
       "    }\n",
       "    h3{\n",
       "\t\tfont-family: 'Fenix', serif;\n",
       "        margin-top:12px;\n",
       "        margin-bottom: 3px;\n",
       "       }\n",
       "\th4{\n",
       "\t\tfont-family: 'Fenix', serif;\n",
       "       }\n",
       "    h5 {\n",
       "        font-family: 'Alegreya Sans', sans-serif;\n",
       "    }\t   \n",
       "    div.text_cell_render{\n",
       "        font-family: 'Alegreya Sans',Computer Modern, \"Helvetica Neue\", Arial, Helvetica, Geneva, sans-serif;\n",
       "        line-height: 135%;\n",
       "        font-size: 120%;\n",
       "        width:600px;\n",
       "        margin-left:auto;\n",
       "        margin-right:auto;\n",
       "    }\n",
       "    .CodeMirror{\n",
       "            font-family: \"Source Code Pro\";\n",
       "\t\t\tfont-size: 90%;\n",
       "    }\n",
       "/*    .prompt{\n",
       "        display: None;\n",
       "    }*/\n",
       "    .text_cell_render h1 {\n",
       "        font-weight: 200;\n",
       "        font-size: 50pt;\n",
       "\t\tline-height: 100%;\n",
       "        color:#CD2305;\n",
       "        margin-bottom: 0.5em;\n",
       "        margin-top: 0.5em;\n",
       "        display: block;\n",
       "    }\t\n",
       "    .text_cell_render h5 {\n",
       "        font-weight: 300;\n",
       "        font-size: 16pt;\n",
       "        color: #CD2305;\n",
       "        font-style: italic;\n",
       "        margin-bottom: .5em;\n",
       "        margin-top: 0.5em;\n",
       "        display: block;\n",
       "    }\n",
       "    \n",
       "    .warning{\n",
       "        color: rgb( 240, 20, 20 )\n",
       "        }  \n",
       "</style>\n",
       "<script>\n",
       "    MathJax.Hub.Config({\n",
       "                        TeX: {\n",
       "                           extensions: [\"AMSmath.js\"]\n",
       "                           },\n",
       "                tex2jax: {\n",
       "                    inlineMath: [ ['$','$'], [\"\\\\(\",\"\\\\)\"] ],\n",
       "                    displayMath: [ ['$$','$$'], [\"\\\\[\",\"\\\\]\"] ]\n",
       "                },\n",
       "                displayAlign: 'center', // Change this to 'center' to center equations.\n",
       "                \"HTML-CSS\": {\n",
       "                    styles: {'.MathJax_Display': {\"margin\": 4}}\n",
       "                }\n",
       "        });\n",
       "</script>\n",
       "\n"
      ],
      "text/plain": [
       "<IPython.core.display.HTML object>"
      ]
     },
     "execution_count": 1,
     "metadata": {},
     "output_type": "execute_result"
    }
   ],
   "source": [
    "from IPython.core.display import HTML\n",
    "def css_styling():\n",
    "    styles = open(\"./styles/custom.css\", \"r\").read()\n",
    "    return HTML(styles)\n",
    "css_styling()\n",
    "\n",
    "# I am using the style sheet found here  Lorena Barba https://github.com/barbagroup/CFDPython/blob/master/styles/custom.css"
   ]
  },
  {
   "cell_type": "code",
   "execution_count": null,
   "metadata": {
    "collapsed": true
   },
   "outputs": [],
   "source": []
  }
 ],
 "metadata": {
  "kernelspec": {
   "display_name": "Python 3",
   "language": "python",
   "name": "python3"
  },
  "language_info": {
   "codemirror_mode": {
    "name": "ipython",
    "version": 3
   },
   "file_extension": ".py",
   "mimetype": "text/x-python",
   "name": "python",
   "nbconvert_exporter": "python",
   "pygments_lexer": "ipython3",
   "version": "3.5.1"
  }
 },
 "nbformat": 4,
 "nbformat_minor": 0
}
