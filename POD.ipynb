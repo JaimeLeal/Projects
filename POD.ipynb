{
 "cells": [
  {
   "cell_type": "markdown",
   "metadata": {},
   "source": [
    "# Proper Orthogonal Decomposition for Reduced Order Modelling "
   ]
  },
  {
   "cell_type": "markdown",
   "metadata": {},
   "source": [
    "<a id=\"table\"></a>"
   ]
  },
  {
   "cell_type": "markdown",
   "metadata": {},
   "source": [
    "## Table of contents\n",
    "- [Introduction](#intro)\n",
    "- [High resolution model](#HR)\n",
    "- [Proper orthogonal decomposition](#POD)\n",
    "- [Low resolution model](#LR)\n",
    "- [Performance improvement](#improvement)\n",
    "- [Error between high and low resolution models](#error)"
   ]
  },
  {
   "cell_type": "code",
   "execution_count": 1,
   "metadata": {
    "collapsed": false
   },
   "outputs": [],
   "source": [
    "from time import process_time\n",
    "import numpy as np\n",
    "from scipy import linalg\n",
    "#from matplotlib import pyplot as plt\n",
    "\n",
    "# ROM functions\n",
    "#from modules.rom import rom\n",
    "# Two phase, two layers, reservoir model\n",
    "from scripts import water_canals_model as model\n",
    "from modules.simulator import simplots\n",
    "\n",
    "# Set image folder path\n",
    "imgpath = \".\\\\images\""
   ]
  },
  {
   "cell_type": "markdown",
   "metadata": {},
   "source": [
    "<a id=\"intro\"></a>"
   ]
  },
  {
   "cell_type": "markdown",
   "metadata": {},
   "source": [
    "## [Introduction](#table)\n",
    "\n",
    " Reduced order modeling (ROM) has the aim of reducing the number of dimensions (equations) that represent a model in order to solve it faster. In this notebook I will show an example of how to do ROM with proper orthogonal decomposition (POD)."
   ]
  },
  {
   "cell_type": "markdown",
   "metadata": {},
   "source": [
    "<a id=\"HR\"></a>"
   ]
  },
  {
   "cell_type": "markdown",
   "metadata": {},
   "source": [
    "## [High resolution model (HRM)](#table)\n",
    "\n",
    "For this example the model is a single layer of rock of low permeability with two canals of high permeability. There is a single phase flow of water caused by a difference of pressure between the left face and right face of the rock. [This image](#perm) shows the permeability distribution.\n",
    "\n",
    "The model has a grid with 10,000 cells and it is solved with the Lagging Coefficients method. So for each timestep a linear system with dimensions 10,000 x 10,000 is solved.\n",
    "\n",
    "The simulation is run fur 200 timesteps equivalent to 2 days. Solving the HRM takes approximately **175 seconds** to run."
   ]
  },
  {
   "cell_type": "code",
   "execution_count": 2,
   "metadata": {
    "collapsed": false
   },
   "outputs": [
    {
     "data": {
      "text/plain": [
       "10000"
      ]
     },
     "execution_count": 2,
     "metadata": {},
     "output_type": "execute_result"
    }
   ],
   "source": [
    "model.grid.cellnumber"
   ]
  },
  {
   "cell_type": "code",
   "execution_count": 3,
   "metadata": {
    "collapsed": false
   },
   "outputs": [],
   "source": [
    "# Plot permeability\n",
    "log_perm = np.log(model.rock.perm/model.u.darcy / model.u.milli)\n",
    "simplots.plotCellValues2D(model.grid, log_perm, 'inferno', np.min(log_perm), np.max(log_perm),\n",
    "                     title='Permeability Ln(mD)', \n",
    "                     filename='{}\\\\pod_perm'.format(imgpath))"
   ]
  },
  {
   "cell_type": "markdown",
   "metadata": {},
   "source": [
    "<a id=\"perm\">\n",
    "        <img src=\".\\images\\pod_perm.png\" style=\"width:400px;height:-1px;\" >\n",
    "</a> "
   ]
  },
  {
   "cell_type": "code",
   "execution_count": 17,
   "metadata": {
    "collapsed": false,
    "scrolled": true
   },
   "outputs": [
    {
     "name": "stdout",
     "output_type": "stream",
     "text": [
      " Time running simulation = 181.679 seconds."
     ]
    }
   ],
   "source": [
    "# Load the reservoir model \n",
    "#exec(open(\".\\\\scripts\\\\reservoir_model_01.py\").read())\n",
    "sch  = model.sch\n",
    "# Run simulation\n",
    "t = process_time()\n",
    "# Run simulation\n",
    "r, well_solution, sch = model.LCM.solve(model.sch, max_inner_iter = 2, tol = 1E-6, ATS = False)\n",
    "elapsed_time = process_time() - t\n",
    "model.nice_print('Time running simulation = {:.3f} seconds.'.format(elapsed_time))"
   ]
  },
  {
   "cell_type": "code",
   "execution_count": 13,
   "metadata": {
    "collapsed": false
   },
   "outputs": [],
   "source": [
    "# Transform units to psi\n",
    "p = r/model.u.psi\n",
    "# We will  save a plot for each timestep and then use \n",
    "# ffmpeg to create a gif\n",
    "acum_sum = np.cumsum(model.sch.timesteps) / model.u.day\n",
    "# Add \"0\" for the initial conditions\n",
    "acum_sum = np.hstack((0, acum_sum))\n",
    "\n",
    "for k in np.arange(0,acum_sum.size, 1): \n",
    "    model.plotCellValues2D(model.grid, p[:, k], 'inferno', np.min(p), np.max(p),\n",
    "                     title='Pressure (psi). {:.3f} days'.format(acum_sum[k]), \n",
    "                     filename='{}\\\\pod_pw_{}'.format(imgpath, k))"
   ]
  },
  {
   "cell_type": "markdown",
   "metadata": {},
   "source": [
    "The following animation shows the pressure distribution in the rock. As it is expected, the pressure increases in the high permeability area of the canals."
   ]
  },
  {
   "cell_type": "markdown",
   "metadata": {
    "collapsed": false
   },
   "source": [
    "<img src=\".\\images\\pod_pw.gif\" >"
   ]
  },
  {
   "cell_type": "markdown",
   "metadata": {},
   "source": [
    "<a id = POD></a>"
   ]
  },
  {
   "cell_type": "markdown",
   "metadata": {},
   "source": [
    "## [Proper orthogonal decomposition](#table)"
   ]
  },
  {
   "cell_type": "code",
   "execution_count": null,
   "metadata": {
    "collapsed": false
   },
   "outputs": [],
   "source": [
    "# Singular value decomposition\n",
    "_,S_po,_ = linalg.svd(results['p_oil'][:,:50])\n",
    "_,S_sw,_ = linalg.svd(results['sw'][:,:50])"
   ]
  },
  {
   "cell_type": "code",
   "execution_count": null,
   "metadata": {
    "collapsed": false
   },
   "outputs": [],
   "source": [
    "rom.plot_energy(S_po, \"{}\\\\po_energy\".format(imgpath))\n",
    "rom.plot_energy(S_sw, \"{}\\\\sw_energy\".format(imgpath))"
   ]
  },
  {
   "cell_type": "markdown",
   "metadata": {
    "collapsed": false
   },
   "source": [
    "**Oil pressure basis vectors**\n",
    "<img src = \".\\images\\po_energy.png\" style=\"width:400px;height:-1px;\" >\n",
    "**Water saturation basis vectors**\n",
    "<img src = \".\\images\\sw_energy.png\" style=\"width:400px;height:-1px;\" >"
   ]
  },
  {
   "cell_type": "code",
   "execution_count": null,
   "metadata": {
    "collapsed": false
   },
   "outputs": [],
   "source": [
    "from modules.rom import rom\n",
    "x = results['p_oil'][:,:50]\n",
    "y = results['sw'][:,:50]\n",
    "Ur_po, Sr_po = rom.pod(x, 99.999, 6)\n",
    "Ur_sw, Sr_sw = rom.pod(y, 99.99, 6)"
   ]
  },
  {
   "cell_type": "markdown",
   "metadata": {},
   "source": [
    "Plot the "
   ]
  },
  {
   "cell_type": "code",
   "execution_count": null,
   "metadata": {
    "collapsed": false
   },
   "outputs": [],
   "source": [
    "rom.plot_basis(Ur_po[:100,:], 2, 3, model.grid, \"{}\\\\basis_po_1st\".format(imgpath))\n",
    "rom.plot_basis(Ur_sw[:100,:], 2, 3, model.grid, \"{}\\\\basis_sw_1st\".format(imgpath))"
   ]
  },
  {
   "cell_type": "markdown",
   "metadata": {},
   "source": [
    "<img src = \".\\images\\basis_po_1st.png\" height=\"1\" >\n",
    "<img src = \".\\images\\basis_sw_1st.png\" height=\"1\" >"
   ]
  },
  {
   "cell_type": "markdown",
   "metadata": {},
   "source": [
    "\n"
   ]
  },
  {
   "cell_type": "markdown",
   "metadata": {},
   "source": [
    "<a id=\"LR\"></a>"
   ]
  },
  {
   "cell_type": "markdown",
   "metadata": {},
   "source": [
    "## [Low resoludion model](#table)\n",
    "\n",
    "Now, we will apply the proper orthogonal decomposition technique to the reservoir simulator to speed up the simulation. We will modify the Fully Implicit Solver. After generating the linear syustem to be solved we project it to create the low order model and then solve it with the neton raphson model.\n",
    "The dimensions of the basis is  x by y so the dimensions of the new system will be k by w. "
   ]
  },
  {
   "cell_type": "code",
   "execution_count": null,
   "metadata": {
    "collapsed": false
   },
   "outputs": [],
   "source": [
    "sch  = rmodel.sch\n",
    "# Run simulation\n",
    "t = process_time()\n",
    "results, well_solution, sch, info = rmodel.FIM.solve(sch, max_iter= 10, tol = 1E-6, ATS = False)\n",
    "elapsed_time = process_time() - t\n",
    "print('Time running simulation = {:.3f} seconds.'.format(elapsed_time))#"
   ]
  },
  {
   "cell_type": "markdown",
   "metadata": {},
   "source": [
    "<a id=\"improvement\"></a>"
   ]
  },
  {
   "cell_type": "markdown",
   "metadata": {},
   "source": [
    "## [Performance improvement](#table)\n",
    "\n",
    "\n",
    "\n",
    "### Time improvement"
   ]
  },
  {
   "cell_type": "markdown",
   "metadata": {},
   "source": [
    "<a id=\"error\"></a>"
   ]
  },
  {
   "cell_type": "markdown",
   "metadata": {},
   "source": [
    "## [Error between high and low resolution models](#table)\n",
    "\n",
    "The error between the high resolution model and the low resolution model"
   ]
  },
  {
   "cell_type": "markdown",
   "metadata": {},
   "source": [
    "<a id=\"bottom\"></a>"
   ]
  },
  {
   "cell_type": "markdown",
   "metadata": {},
   "source": [
    "## [To the top](#table)"
   ]
  },
  {
   "cell_type": "raw",
   "metadata": {
    "collapsed": false
   },
   "source": [
    "p_oil = results['p_oil'][:,:]/u.psi\n",
    "sw = results['sw'][:,:]\n",
    "\n",
    "acum_sum = np.cumsum(sch.timesteps) / u.day\n",
    "acum_sum = np.hstack((0, acum_sum))\n",
    "\n",
    "for k in np.arange(0, acum_sum.size, 10):\n",
    "    plotCellValues2D(grid, p_oil[:, k], 'inferno', np.min(p_oil), np.max(p_oil),\n",
    "                     title='Oil pressure. {:.3f} days'.format(acum_sum[k]), \n",
    "                     filename='{}\\\\2ph_ex1_po_{}'.format(imgpath,k))\n",
    "\n",
    "for k in np.arange(0, acum_sum.size, 10):\n",
    "    plotCellValues2D(grid, sw[:, k], 'plasma', np.min(sw), np.max(sw),\n",
    "                     title='Water saturation. {:.3f} days'.format(acum_sum[k]), \n",
    "                     filename='{}\\\\2ph_ex1_sw_{}'.format(imgpath,k))"
   ]
  },
  {
   "cell_type": "code",
   "execution_count": 15,
   "metadata": {
    "collapsed": false
   },
   "outputs": [
    {
     "data": {
      "text/html": [
       "<link href='http://fonts.googleapis.com/css?family=Fenix' rel='stylesheet' type='text/css'>\n",
       "<link href='http://fonts.googleapis.com/css?family=Alegreya+Sans:100,300,400,500,700,800,900,100italic,300italic,400italic,500italic,700italic,800italic,900italic' rel='stylesheet' type='text/css'>\n",
       "<link href='http://fonts.googleapis.com/css?family=Source+Code+Pro:300,400' rel='stylesheet' type='text/css'>\n",
       "<style>\n",
       "    @font-face {\n",
       "        font-family: \"Computer Modern\";\n",
       "        src: url('http://mirrors.ctan.org/fonts/cm-unicode/fonts/otf/cmunss.otf');\n",
       "    }\n",
       "    div.cell{\n",
       "        width:800px;\n",
       "        margin-left:16% !important;\n",
       "        margin-right:auto;\n",
       "    }\n",
       "    h1 {\n",
       "        font-family: 'Alegreya Sans', sans-serif;\n",
       "    }\n",
       "    h2 {\n",
       "        font-family: 'Fenix', serif;\n",
       "    }\n",
       "    h3{\n",
       "\t\tfont-family: 'Fenix', serif;\n",
       "        margin-top:12px;\n",
       "        margin-bottom: 3px;\n",
       "       }\n",
       "\th4{\n",
       "\t\tfont-family: 'Fenix', serif;\n",
       "       }\n",
       "    h5 {\n",
       "        font-family: 'Alegreya Sans', sans-serif;\n",
       "    }\t   \n",
       "    div.text_cell_render{\n",
       "        font-family: 'Alegreya Sans',Computer Modern, \"Helvetica Neue\", Arial, Helvetica, Geneva, sans-serif;\n",
       "        line-height: 135%;\n",
       "        font-size: 120%;\n",
       "        width:600px;\n",
       "        margin-left:auto;\n",
       "        margin-right:auto;\n",
       "    }\n",
       "    .CodeMirror{\n",
       "            font-family: \"Source Code Pro\";\n",
       "\t\t\tfont-size: 90%;\n",
       "    }\n",
       "/*    .prompt{\n",
       "        display: None;\n",
       "    }*/\n",
       "    .text_cell_render h1 {\n",
       "        font-weight: 200;\n",
       "        font-size: 50pt;\n",
       "\t\tline-height: 100%;\n",
       "        color:#CD2305;\n",
       "        margin-bottom: 0.5em;\n",
       "        margin-top: 0.5em;\n",
       "        display: block;\n",
       "    }\t\n",
       "    .text_cell_render h5 {\n",
       "        font-weight: 300;\n",
       "        font-size: 16pt;\n",
       "        color: #CD2305;\n",
       "        font-style: italic;\n",
       "        margin-bottom: .5em;\n",
       "        margin-top: 0.5em;\n",
       "        display: block;\n",
       "    }\n",
       "    \n",
       "    .warning{\n",
       "        color: rgb( 240, 20, 20 )\n",
       "        }  \n",
       "</style>\n",
       "<script>\n",
       "    MathJax.Hub.Config({\n",
       "                        TeX: {\n",
       "                           extensions: [\"AMSmath.js\"]\n",
       "                           },\n",
       "                tex2jax: {\n",
       "                    inlineMath: [ ['$','$'], [\"\\\\(\",\"\\\\)\"] ],\n",
       "                    displayMath: [ ['$$','$$'], [\"\\\\[\",\"\\\\]\"] ]\n",
       "                },\n",
       "                displayAlign: 'center', // Change this to 'center' to center equations.\n",
       "                \"HTML-CSS\": {\n",
       "                    styles: {'.MathJax_Display': {\"margin\": 4}}\n",
       "                }\n",
       "        });\n",
       "</script>\n",
       "\n"
      ],
      "text/plain": [
       "<IPython.core.display.HTML object>"
      ]
     },
     "execution_count": 15,
     "metadata": {},
     "output_type": "execute_result"
    }
   ],
   "source": [
    "from IPython.core.display import HTML\n",
    "def css_styling():\n",
    "    styles = open(\"./styles/custom.css\", \"r\").read()\n",
    "    return HTML(styles)\n",
    "css_styling()\n",
    "\n",
    "# Using the style sheet found here  Lorena Barba /* https://github.com/barbagroup/CFDPython/blob/master/styles/custom.css */"
   ]
  },
  {
   "cell_type": "code",
   "execution_count": null,
   "metadata": {
    "collapsed": true
   },
   "outputs": [],
   "source": []
  },
  {
   "cell_type": "code",
   "execution_count": null,
   "metadata": {
    "collapsed": true
   },
   "outputs": [],
   "source": []
  }
 ],
 "metadata": {
  "kernelspec": {
   "display_name": "Python 3",
   "language": "python",
   "name": "python3"
  },
  "language_info": {
   "codemirror_mode": {
    "name": "ipython",
    "version": 3
   },
   "file_extension": ".py",
   "mimetype": "text/x-python",
   "name": "python",
   "nbconvert_exporter": "python",
   "pygments_lexer": "ipython3",
   "version": "3.5.1"
  }
 },
 "nbformat": 4,
 "nbformat_minor": 0
}
