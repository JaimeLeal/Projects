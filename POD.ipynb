{
 "cells": [
  {
   "cell_type": "markdown",
   "metadata": {},
   "source": [
    "# Proper Orthogonal Decomposition for Reduction of Order Modeling."
   ]
  },
  {
   "cell_type": "markdown",
   "metadata": {},
   "source": [
    "<a id=\"table\"></a>"
   ]
  },
  {
   "cell_type": "markdown",
   "metadata": {},
   "source": [
    "## Table of contents\n",
    "- [Introduction](#intro)\n",
    "- [High Order Model](#HR)\n",
    "- [Proper Orthogonal Decomposition](#POD)\n",
    "- [Low Order Model](#LR)\n",
    "- [Time improvement](#improvement)\n",
    "- [Error](#error)"
   ]
  },
  {
   "cell_type": "code",
   "execution_count": 1,
   "metadata": {
    "collapsed": false
   },
   "outputs": [],
   "source": [
    "from time import process_time\n",
    "from scipy import linalg\n",
    "from matplotlib import pyplot as plt\n",
    "from sklearn.cluster import KMeans\n",
    "\n",
    "# ROM functions\n",
    "from modules.rom import rom\n",
    "# Two phase, two layers, reservoir model\n",
    "from scripts import reservoir_model_01 as model\n",
    "\n",
    "# Set image folder path\n",
    "imgpath = \".\\\\images\""
   ]
  },
  {
   "cell_type": "markdown",
   "metadata": {},
   "source": [
    "<a id=\"intro\"></a>"
   ]
  },
  {
   "cell_type": "markdown",
   "metadata": {},
   "source": [
    "## [Introduction](#table)\n",
    "\n",
    "$$ Ax = b \\\\ $$\n",
    "Where $A \\in \\mathbb{R}^{n \\times n} , x \\in \\mathbb{R}^{n \\times 1} $, and  $b \\in \\mathbb{R}^{n \\times 1}.  $\n",
    "\n",
    "\n",
    "\n",
    "$$\\phi A x= \\phi b \\\\$$"
   ]
  },
  {
   "cell_type": "markdown",
   "metadata": {},
   "source": [
    "<a id=\"HR\"></a>"
   ]
  },
  {
   "cell_type": "markdown",
   "metadata": {},
   "source": [
    "## [High Resolution Model](#table)\n",
    "\n",
    "The reservoir model that we are going to use here is very similar to  <a href = http://nbviewer.jupyter.org/github/JaimeLeal/projects/blob/master/Simulator_Two_Phase_Flow.ipynb?flush_cache=true target=_blank>  Example \\#2 in the \"Two Phase Flow Examples\" </a>. The simulation was run fur 300 timesteps equivalent to 118 days. The Fully Implicit Simulation took  approximately **25 seconds** to run."
   ]
  },
  {
   "cell_type": "code",
   "execution_count": 2,
   "metadata": {
    "collapsed": false
   },
   "outputs": [
    {
     "name": "stdout",
     "output_type": "stream",
     "text": [
      "Time running simulation = 24.133 seconds.\n"
     ]
    }
   ],
   "source": [
    "# Load the reservoir model \n",
    "#exec(open(\".\\\\scripts\\\\reservoir_model_01.py\").read())\n",
    "sch  = model.sch\n",
    "# Run simulation\n",
    "t = process_time()\n",
    "results, well_solution, sch, info = model.FIM.solve(sch, max_iter= 10, tol = 1E-6, ATS = False)\n",
    "elapsed_time = process_time() - t\n",
    "print('Time running simulation = {:.3f} seconds.'.format(elapsed_time))"
   ]
  },
  {
   "cell_type": "markdown",
   "metadata": {},
   "source": [
    "Now, we load the simulation results to see what happens"
   ]
  },
  {
   "cell_type": "code",
   "execution_count": 3,
   "metadata": {
    "collapsed": false
   },
   "outputs": [],
   "source": [
    "# Singular value decomposition\n",
    "_,S_po,_ = linalg.svd(results['p_oil'][:,:50])\n",
    "_,S_sw,_ = linalg.svd(results['sw'][:,:50])"
   ]
  },
  {
   "cell_type": "code",
   "execution_count": 4,
   "metadata": {
    "collapsed": false
   },
   "outputs": [],
   "source": [
    "rom.plot_energy(S_po, \"{}\\\\po_energy\".format(imgpath))\n",
    "rom.plot_energy(S_sw, \"{}\\\\sw_energy\".format(imgpath))"
   ]
  },
  {
   "cell_type": "markdown",
   "metadata": {
    "collapsed": false
   },
   "source": [
    "**Oil pressure basis vectors**\n",
    "<img src = \".\\images\\po_energy.png\" width=\"5000\" >\n",
    "**Water saturation basis vectors**\n",
    "<img src = \".\\images\\sw_energy.png\" height=\"10\" >"
   ]
  },
  {
   "cell_type": "markdown",
   "metadata": {},
   "source": [
    "<a id = POD></a>"
   ]
  },
  {
   "cell_type": "markdown",
   "metadata": {},
   "source": [
    "## [Proper Orthogonal Decomposition](#table)"
   ]
  },
  {
   "cell_type": "code",
   "execution_count": 5,
   "metadata": {
    "collapsed": false
   },
   "outputs": [],
   "source": [
    "from modules.rom import rom\n",
    "x = results['p_oil'][:,:50]\n",
    "y = results['sw'][:,:50]\n",
    "Ur_po, Sr_po = rom.pod(x, 99.999, 6)\n",
    "Ur_sw, Sr_sw = rom.pod(y, 99.99, 6)"
   ]
  },
  {
   "cell_type": "markdown",
   "metadata": {},
   "source": [
    "Plot the "
   ]
  },
  {
   "cell_type": "code",
   "execution_count": 6,
   "metadata": {
    "collapsed": false
   },
   "outputs": [
    {
     "name": "stderr",
     "output_type": "stream",
     "text": [
      "C:\\Users\\Jaime\\Anaconda3\\lib\\site-packages\\matplotlib\\figure.py:1718: UserWarning: This figure includes Axes that are not compatible with tight_layout, so its results might be incorrect.\n",
      "  warnings.warn(\"This figure includes Axes that are not \"\n"
     ]
    }
   ],
   "source": [
    "rom.plot_basis(Ur_po[:100,:], 2, 3, model.grid, \"{}\\\\basis_po_1st\".format(imgpath))\n",
    "rom.plot_basis(Ur_sw[:100,:], 2, 3, model.grid, \"{}\\\\basis_sw_1st\".format(imgpath))"
   ]
  },
  {
   "cell_type": "markdown",
   "metadata": {},
   "source": [
    "<img src = \".\\images\\basis_po_1st.png\" height=\"1\" >\n",
    "<img src = \".\\images\\basis_sw_1st.png\" height=\"1\" >"
   ]
  },
  {
   "cell_type": "markdown",
   "metadata": {},
   "source": [
    "\n"
   ]
  },
  {
   "cell_type": "markdown",
   "metadata": {},
   "source": [
    "<a id=\"LR\"></a>"
   ]
  },
  {
   "cell_type": "markdown",
   "metadata": {},
   "source": [
    "## [Low Order Model](#table)\n",
    "\n",
    "Now, we will apply the proper orthogonal decomposition technique to the reservoir simulator to speed up the simulation. We will modify the Fully Implicit Solver. After generating the linear syustem to be solved we project it to create the low order model and then solve it with the neton raphson model.\n",
    "The dimensions of the basis is  x by y so the dimensions of the new system will be k by w. "
   ]
  },
  {
   "cell_type": "code",
   "execution_count": 7,
   "metadata": {
    "collapsed": false
   },
   "outputs": [
    {
     "ename": "NameError",
     "evalue": "name 'rmodel' is not defined",
     "output_type": "error",
     "traceback": [
      "\u001b[1;31m---------------------------------------------------------------------------\u001b[0m",
      "\u001b[1;31mNameError\u001b[0m                                 Traceback (most recent call last)",
      "\u001b[1;32m<ipython-input-7-e0458a5313ae>\u001b[0m in \u001b[0;36m<module>\u001b[1;34m()\u001b[0m\n\u001b[1;32m----> 1\u001b[1;33m \u001b[0msch\u001b[0m  \u001b[1;33m=\u001b[0m \u001b[0mrmodel\u001b[0m\u001b[1;33m.\u001b[0m\u001b[0msch\u001b[0m\u001b[1;33m\u001b[0m\u001b[0m\n\u001b[0m\u001b[0;32m      2\u001b[0m \u001b[1;31m# Run simulation\u001b[0m\u001b[1;33m\u001b[0m\u001b[1;33m\u001b[0m\u001b[0m\n\u001b[0;32m      3\u001b[0m \u001b[0mt\u001b[0m \u001b[1;33m=\u001b[0m \u001b[0mprocess_time\u001b[0m\u001b[1;33m(\u001b[0m\u001b[1;33m)\u001b[0m\u001b[1;33m\u001b[0m\u001b[0m\n\u001b[0;32m      4\u001b[0m \u001b[0mresults\u001b[0m\u001b[1;33m,\u001b[0m \u001b[0mwell_solution\u001b[0m\u001b[1;33m,\u001b[0m \u001b[0msch\u001b[0m\u001b[1;33m,\u001b[0m \u001b[0minfo\u001b[0m \u001b[1;33m=\u001b[0m \u001b[0mrmodel\u001b[0m\u001b[1;33m.\u001b[0m\u001b[0mFIM\u001b[0m\u001b[1;33m.\u001b[0m\u001b[0msolve\u001b[0m\u001b[1;33m(\u001b[0m\u001b[0msch\u001b[0m\u001b[1;33m,\u001b[0m \u001b[0mmax_iter\u001b[0m\u001b[1;33m=\u001b[0m \u001b[1;36m10\u001b[0m\u001b[1;33m,\u001b[0m \u001b[0mtol\u001b[0m \u001b[1;33m=\u001b[0m \u001b[1;36m1E-6\u001b[0m\u001b[1;33m,\u001b[0m \u001b[0mATS\u001b[0m \u001b[1;33m=\u001b[0m \u001b[1;32mFalse\u001b[0m\u001b[1;33m)\u001b[0m\u001b[1;33m\u001b[0m\u001b[0m\n\u001b[0;32m      5\u001b[0m \u001b[0melapsed_time\u001b[0m \u001b[1;33m=\u001b[0m \u001b[0mprocess_time\u001b[0m\u001b[1;33m(\u001b[0m\u001b[1;33m)\u001b[0m \u001b[1;33m-\u001b[0m \u001b[0mt\u001b[0m\u001b[1;33m\u001b[0m\u001b[0m\n",
      "\u001b[1;31mNameError\u001b[0m: name 'rmodel' is not defined"
     ]
    }
   ],
   "source": [
    "sch  = rmodel.sch\n",
    "# Run simulation\n",
    "t = process_time()\n",
    "results, well_solution, sch, info = rmodel.FIM.solve(sch, max_iter= 10, tol = 1E-6, ATS = False)\n",
    "elapsed_time = process_time() - t\n",
    "print('Time running simulation = {:.3f} seconds.'.format(elapsed_time))#"
   ]
  },
  {
   "cell_type": "markdown",
   "metadata": {},
   "source": [
    "<a id=\"improvement\"></a>"
   ]
  },
  {
   "cell_type": "markdown",
   "metadata": {},
   "source": [
    "## [Time Improvement](#table)"
   ]
  },
  {
   "cell_type": "markdown",
   "metadata": {},
   "source": [
    "<a id=\"error\"></a>"
   ]
  },
  {
   "cell_type": "markdown",
   "metadata": {},
   "source": [
    "## [Error](#table)"
   ]
  },
  {
   "cell_type": "raw",
   "metadata": {
    "collapsed": false
   },
   "source": [
    "p_oil = results['p_oil'][:,:]/u.psi\n",
    "sw = results['sw'][:,:]\n",
    "\n",
    "acum_sum = np.cumsum(sch.timesteps) / u.day\n",
    "acum_sum = np.hstack((0, acum_sum))\n",
    "\n",
    "for k in np.arange(0, acum_sum.size, 10):\n",
    "    plotCellValues2D(grid, p_oil[:, k], 'inferno', np.min(p_oil), np.max(p_oil),\n",
    "                     title='Oil pressure. {:.3f} days'.format(acum_sum[k]), \n",
    "                     filename='{}\\\\2ph_ex1_po_{}'.format(imgpath,k))\n",
    "\n",
    "for k in np.arange(0, acum_sum.size, 10):\n",
    "    plotCellValues2D(grid, sw[:, k], 'plasma', np.min(sw), np.max(sw),\n",
    "                     title='Water saturation. {:.3f} days'.format(acum_sum[k]), \n",
    "                     filename='{}\\\\2ph_ex1_sw_{}'.format(imgpath,k))"
   ]
  },
  {
   "cell_type": "code",
   "execution_count": 8,
   "metadata": {
    "collapsed": false
   },
   "outputs": [
    {
     "data": {
      "text/html": [
       "<link href='http://fonts.googleapis.com/css?family=Fenix' rel='stylesheet' type='text/css'>\n",
       "<link href='http://fonts.googleapis.com/css?family=Alegreya+Sans:100,300,400,500,700,800,900,100italic,300italic,400italic,500italic,700italic,800italic,900italic' rel='stylesheet' type='text/css'>\n",
       "<link href='http://fonts.googleapis.com/css?family=Source+Code+Pro:300,400' rel='stylesheet' type='text/css'>\n",
       "<style>\n",
       "    @font-face {\n",
       "        font-family: \"Computer Modern\";\n",
       "        src: url('http://mirrors.ctan.org/fonts/cm-unicode/fonts/otf/cmunss.otf');\n",
       "    }\n",
       "    div.cell{\n",
       "        width:800px;\n",
       "        margin-left:16% !important;\n",
       "        margin-right:auto;\n",
       "    }\n",
       "    h1 {\n",
       "        font-family: 'Alegreya Sans', sans-serif;\n",
       "    }\n",
       "    h2 {\n",
       "        font-family: 'Fenix', serif;\n",
       "    }\n",
       "    h3{\n",
       "\t\tfont-family: 'Fenix', serif;\n",
       "        margin-top:12px;\n",
       "        margin-bottom: 3px;\n",
       "       }\n",
       "\th4{\n",
       "\t\tfont-family: 'Fenix', serif;\n",
       "       }\n",
       "    h5 {\n",
       "        font-family: 'Alegreya Sans', sans-serif;\n",
       "    }\t   \n",
       "    div.text_cell_render{\n",
       "        font-family: 'Alegreya Sans',Computer Modern, \"Helvetica Neue\", Arial, Helvetica, Geneva, sans-serif;\n",
       "        line-height: 135%;\n",
       "        font-size: 120%;\n",
       "        width:600px;\n",
       "        margin-left:auto;\n",
       "        margin-right:auto;\n",
       "    }\n",
       "    .CodeMirror{\n",
       "            font-family: \"Source Code Pro\";\n",
       "\t\t\tfont-size: 90%;\n",
       "    }\n",
       "/*    .prompt{\n",
       "        display: None;\n",
       "    }*/\n",
       "    .text_cell_render h1 {\n",
       "        font-weight: 200;\n",
       "        font-size: 50pt;\n",
       "\t\tline-height: 100%;\n",
       "        color:#CD2305;\n",
       "        margin-bottom: 0.5em;\n",
       "        margin-top: 0.5em;\n",
       "        display: block;\n",
       "    }\t\n",
       "    .text_cell_render h5 {\n",
       "        font-weight: 300;\n",
       "        font-size: 16pt;\n",
       "        color: #CD2305;\n",
       "        font-style: italic;\n",
       "        margin-bottom: .5em;\n",
       "        margin-top: 0.5em;\n",
       "        display: block;\n",
       "    }\n",
       "    \n",
       "    .warning{\n",
       "        color: rgb( 240, 20, 20 )\n",
       "        }  \n",
       "</style>\n",
       "<script>\n",
       "    MathJax.Hub.Config({\n",
       "                        TeX: {\n",
       "                           extensions: [\"AMSmath.js\"]\n",
       "                           },\n",
       "                tex2jax: {\n",
       "                    inlineMath: [ ['$','$'], [\"\\\\(\",\"\\\\)\"] ],\n",
       "                    displayMath: [ ['$$','$$'], [\"\\\\[\",\"\\\\]\"] ]\n",
       "                },\n",
       "                displayAlign: 'center', // Change this to 'center' to center equations.\n",
       "                \"HTML-CSS\": {\n",
       "                    styles: {'.MathJax_Display': {\"margin\": 4}}\n",
       "                }\n",
       "        });\n",
       "</script>\n",
       "\n"
      ],
      "text/plain": [
       "<IPython.core.display.HTML object>"
      ]
     },
     "execution_count": 8,
     "metadata": {},
     "output_type": "execute_result"
    }
   ],
   "source": [
    "from IPython.core.display import HTML\n",
    "def css_styling():\n",
    "    styles = open(\"./styles/custom.css\", \"r\").read()\n",
    "    return HTML(styles)\n",
    "css_styling()\n",
    "\n",
    "# Using the style sheet found here  Lorena Barba /* https://github.com/barbagroup/CFDPython/blob/master/styles/custom.css */"
   ]
  },
  {
   "cell_type": "code",
   "execution_count": null,
   "metadata": {
    "collapsed": true
   },
   "outputs": [],
   "source": []
  },
  {
   "cell_type": "code",
   "execution_count": null,
   "metadata": {
    "collapsed": true
   },
   "outputs": [],
   "source": []
  }
 ],
 "metadata": {
  "kernelspec": {
   "display_name": "Python 3",
   "language": "python",
   "name": "python3"
  },
  "language_info": {
   "codemirror_mode": {
    "name": "ipython",
    "version": 3
   },
   "file_extension": ".py",
   "mimetype": "text/x-python",
   "name": "python",
   "nbconvert_exporter": "python",
   "pygments_lexer": "ipython3",
   "version": "3.5.1"
  }
 },
 "nbformat": 4,
 "nbformat_minor": 0
}
