{
 "cells": [
  {
   "cell_type": "markdown",
   "metadata": {},
   "source": [
    "# Proper Orthogonal Decomposition for Reduced Order Modelling "
   ]
  },
  {
   "cell_type": "markdown",
   "metadata": {},
   "source": [
    "<a id=\"table\"></a>"
   ]
  },
  {
   "cell_type": "markdown",
   "metadata": {},
   "source": [
    "## Table of contents\n",
    "- [Introduction](#intro)\n",
    "- [High resolution model](#HR)\n",
    "- [Proper orthogonal decomposition](#POD)\n",
    "- [Low resolution model](#LR)\n",
    "- [Performance improvement](#improvement)\n",
    "- [Error between high and low resolution models](#error)\n",
    "- [References](#ref)"
   ]
  },
  {
   "cell_type": "code",
   "execution_count": 2,
   "metadata": {
    "collapsed": false
   },
   "outputs": [],
   "source": [
    "from time import process_time\n",
    "import numpy as np\n",
    "from scipy.linalg import svd\n",
    "from scipy.sparse import csr_matrix\n",
    "\n",
    "from modules.rom import pod\n",
    "from scripts import animation\n",
    "# reservoir model\n",
    "from scripts import water_canals_model as model\n",
    "from modules.simulator import simplots\n",
    "from modules.simulator.units import UnitRegistry\n",
    "\n",
    "# Units\n",
    "u = UnitRegistry()\n",
    "\n",
    "# Set image folder path\n",
    "imgpath = \".\\\\images\""
   ]
  },
  {
   "cell_type": "markdown",
   "metadata": {},
   "source": [
    "<a id=\"intro\"></a>"
   ]
  },
  {
   "cell_type": "markdown",
   "metadata": {},
   "source": [
    "## [Introduction](#table)\n",
    "\n",
    " Reduced order modeling (ROM) has the aim of reducing the number of dimensions (equations) that represent a model in order to solve it faster. In this notebook I show an example of how to do ROM with proper orthogonal decomposition (POD). I follow the procedure presented in this paper [SPE-141922-MS](#ref)."
   ]
  },
  {
   "cell_type": "markdown",
   "metadata": {},
   "source": [
    "<a id=\"HR\"></a>"
   ]
  },
  {
   "cell_type": "markdown",
   "metadata": {},
   "source": [
    "## [High resolution model (HRM)](#table)\n",
    "\n",
    "The model is a single layer of rock of low permeability with two canals of high permeability. The fluid is water. And there is a difference of pressure of 200 psi between the left face and right face of the rock layer. [This image](#perm) shows the permeability distribution in the rock.\n",
    "\n",
    "The model has a grid with 5,000 cells and it is solved with the Lagging Coefficients method. \n",
    "\n",
    "The full simulation schedule is 500 timesteps that add up to 10 days. The training simulation consists of the first 100 timesteps of that schedule."
   ]
  },
  {
   "cell_type": "code",
   "execution_count": 6,
   "metadata": {
    "collapsed": false
   },
   "outputs": [],
   "source": [
    "# Plot permeability\n",
    "log_perm = np.log(model.rock.perm/u.darcy / u.milli)\n",
    "simplots.plotCellValues2D(model.grid, log_perm, 'inferno', np.min(log_perm), np.max(log_perm),\n",
    "                     title='Permeability Ln(mD)', \n",
    "                     filename='{}\\\\pod_perm'.format(imgpath))"
   ]
  },
  {
   "cell_type": "markdown",
   "metadata": {},
   "source": [
    "<a id=\"perm\">\n",
    "        <img src=\".\\images\\pod_perm.png?\" style=\"width:400px;height:-1px;\" >\n",
    "</a> "
   ]
  },
  {
   "cell_type": "code",
   "execution_count": 7,
   "metadata": {
    "collapsed": false,
    "scrolled": true
   },
   "outputs": [
    {
     "name": "stdout",
     "output_type": "stream",
     "text": [
      " Time running simulation = 133.740 seconds."
     ]
    }
   ],
   "source": [
    "t = process_time()\n",
    "# Run simulation\n",
    "X, well_solution, sch = model.LCM.solve(model.sch, max_inner_iter = 1, tol = 1E-6, ATS = False)\n",
    "HRM_time = process_time() - t\n",
    "model.nice_print('Time running simulation = {:.3f} seconds.'.format(HRM_time))"
   ]
  },
  {
   "cell_type": "markdown",
   "metadata": {},
   "source": [
    "The following animation shows the pressure distribution in the rock layer. As it is expected, the pressure increases first in the high permeability area of the canals.\n",
    "<img src=\".\\images\\pod_pw.gif\" >"
   ]
  },
  {
   "cell_type": "markdown",
   "metadata": {},
   "source": [
    "<a id = POD></a>"
   ]
  },
  {
   "cell_type": "markdown",
   "metadata": {},
   "source": [
    "## [Proper orthogonal decomposition (POD)](#table)"
   ]
  },
  {
   "cell_type": "code",
   "execution_count": 34,
   "metadata": {
    "collapsed": false
   },
   "outputs": [
    {
     "name": "stdout",
     "output_type": "stream",
     "text": [
      "(5000, 100)\n"
     ]
    }
   ],
   "source": [
    "# Snapshots\n",
    "D = X[:,:100]\n",
    "# Covariance matrix\n",
    "C = D.T.dot(D)\n",
    "# Singular value decomposition\n",
    "V,si,_ = svd(C)\n",
    "# Calculate basis\n",
    "U = (D.dot(V)) * si ** (1/2)\n",
    "print(U.shape)"
   ]
  },
  {
   "cell_type": "markdown",
   "metadata": {},
   "source": [
    "The matrix $U$ contains the basis vectors. To form the reduced basis matrix $\\:\\phi$, only the basis vectors that contribute the most energy are selected. The following plots show that the first vector captures almost all of the energy. Also, there is a change of slope at vector 15. "
   ]
  },
  {
   "cell_type": "code",
   "execution_count": 35,
   "metadata": {
    "collapsed": false
   },
   "outputs": [],
   "source": [
    "pod.plot_energy(si, \"{}\\\\pod_energy\".format(imgpath))\n",
    "pod.plot_energy(si[:40], \"{}\\\\pod_energy_closeup\".format(imgpath))"
   ]
  },
  {
   "cell_type": "markdown",
   "metadata": {
    "collapsed": false
   },
   "source": [
    "**Energy of the basis vectors**\n",
    "<img src = \".\\images\\pod_energy.png?\" style=\"width:400px;height:-1px;\" >\n",
    "**Close up**\n",
    "<img src = \".\\images\\pod_energy_closeup.png?\" style=\"width:400px;height:-1px;\" >"
   ]
  },
  {
   "cell_type": "code",
   "execution_count": 36,
   "metadata": {
    "collapsed": false
   },
   "outputs": [],
   "source": [
    "basis_size = 5\n",
    "reduced_basis = U[:,:basis_size]"
   ]
  },
  {
   "cell_type": "markdown",
   "metadata": {},
   "source": [
    "<a id=\"LR\"></a>"
   ]
  },
  {
   "cell_type": "markdown",
   "metadata": {},
   "source": [
    "## [Low resolution model (LRM)](#table)"
   ]
  },
  {
   "cell_type": "code",
   "execution_count": 37,
   "metadata": {
    "collapsed": false
   },
   "outputs": [],
   "source": [
    "linear_solver = lambda A, b : pod.linear_solver(A, b, csr_matrix(reduced_basis))"
   ]
  },
  {
   "cell_type": "code",
   "execution_count": 38,
   "metadata": {
    "collapsed": false
   },
   "outputs": [
    {
     "name": "stdout",
     "output_type": "stream",
     "text": [
      " Time running simulation = 105.067 seconds."
     ]
    }
   ],
   "source": [
    "t = process_time()\n",
    "# Run simulation\n",
    "Xr, well_solution, sch = model.LCM.solve(model.sch, max_inner_iter = 1, tol = 1E-6, ATS = False, linear_solver = linear_solver)\n",
    "LRM_time = process_time() - t\n",
    "model.nice_print('Time running simulation = {:.3f} seconds.'.format(LRM_time))"
   ]
  },
  {
   "cell_type": "markdown",
   "metadata": {},
   "source": [
    "The solution of the simulation with the POD technique.\n",
    "\n",
    "<img src=\".\\images\\pod_LRM_pw.gif\" >"
   ]
  },
  {
   "cell_type": "markdown",
   "metadata": {},
   "source": [
    "<a id=\"improvement\"></a>"
   ]
  },
  {
   "cell_type": "markdown",
   "metadata": {},
   "source": [
    "## [Performance improvement](#table)\n",
    "\n",
    "There is a performance improvement in the total simulation time of almost 22%."
   ]
  },
  {
   "cell_type": "code",
   "execution_count": 39,
   "metadata": {
    "collapsed": false
   },
   "outputs": [
    {
     "name": "stdout",
     "output_type": "stream",
     "text": [
      "Save 21.44% of the time.\n"
     ]
    }
   ],
   "source": [
    "improvement = (HRM_time - LRM_time )/ HRM_time \n",
    "print('Save {:.2f}% of the time.'.format(improvement * 100))"
   ]
  },
  {
   "cell_type": "markdown",
   "metadata": {},
   "source": [
    "<a id=\"error\"></a>"
   ]
  },
  {
   "cell_type": "markdown",
   "metadata": {},
   "source": [
    "## [Error between high and low resolution models](#table)\n",
    "\n",
    "The next animation shows the percentage difference between the high resolution and low resolution solutions for each cell for each timestep. The maximum difference between solutions is approximately 4.5 %. "
   ]
  },
  {
   "cell_type": "code",
   "execution_count": 40,
   "metadata": {
    "collapsed": false
   },
   "outputs": [
    {
     "name": "stdout",
     "output_type": "stream",
     "text": [
      "Maximum relative error: 4.48%.\n",
      "Average error : 0.46% \n"
     ]
    }
   ],
   "source": [
    "# X is the solution from the HRM and Xr is the solution from the LRM\n",
    "diff = np.subtract(X/u.psi,Xr/u.psi)\n",
    "diff = np.divide(diff,X/u.psi) * 100\n",
    "max_diff = (np.max(np.abs(diff)))\n",
    "print('Maximum relative error: {:.2f}%.'.format(max_diff))\n",
    "print('Average error : {:.2f}% '.format(np.mean(np.abs(diff))))"
   ]
  },
  {
   "cell_type": "markdown",
   "metadata": {},
   "source": [
    "<img src = \".\\images\\pod_error.gif\" style=\"width:400px;height:-1px;\" >"
   ]
  },
  {
   "cell_type": "markdown",
   "metadata": {},
   "source": [
    "### Animations\n",
    "Change the following cells to \"Code\" to run the code and make the animations. It takes some time to run."
   ]
  },
  {
   "cell_type": "raw",
   "metadata": {},
   "source": [
    "pw_min = np.min((X,Xr))/u.psi\n",
    "pw_max = np.max((X,Xr))/u.psi"
   ]
  },
  {
   "cell_type": "raw",
   "metadata": {
    "collapsed": false
   },
   "source": [
    "# High Resolution Model\n",
    "\n",
    "# Transform units to psi\n",
    "p = X/u.psi\n",
    "# We will  save a plot for each timestep to create an animation\n",
    "acum_sum = np.cumsum(model.sch.timesteps) / u.day\n",
    "# Add \"0\" for the initial conditions\n",
    "acum_sum = np.hstack((0, acum_sum))\n",
    "\n",
    "for k in np.arange(0,acum_sum.size, 1): \n",
    "    model.plotCellValues2D(model.grid, p[:, k], 'inferno', pw_min , pw_max,\n",
    "                     title='Pressure (psi). {:.3f} days'.format(acum_sum[k]), \n",
    "                     filename='{}\\\\pod_pw{}'.format(imgpath, k))\n",
    "\n",
    "#Make gif\n",
    "animation.make_gif(imgpath, \"pod_pw\")\n",
    "\n",
    "# Delete intermediary images\n",
    "animation.delete_files(imgpath,\"pod_pw\",\"png\")"
   ]
  },
  {
   "cell_type": "raw",
   "metadata": {
    "collapsed": false
   },
   "source": [
    "# Low Resolution Model\n",
    "\n",
    "# Transform units to psi\n",
    "p = Xr/u.psi\n",
    "# We will  save a plot for each timestep to create an animation\n",
    "acum_sum = np.cumsum(model.sch.timesteps) / u.day\n",
    "# Add \"0\" for the initial conditions\n",
    "acum_sum = np.hstack((0, acum_sum))\n",
    "\n",
    "for k in np.arange(0,acum_sum.size, 1): \n",
    "    model.plotCellValues2D(model.grid, p[:, k], 'inferno', pw_min, pw_max,\n",
    "                     title='Pressure (psi). {:.3f} days'.format(acum_sum[k]), \n",
    "                     filename='{}\\\\pod_LRM_pw{}'.format(imgpath, k))\n",
    "#Make gif\n",
    "animation.make_gif(imgpath, \"pod_LRM_pw\")\n",
    "\n",
    "# Delete intermediary images\n",
    "animation.delete_files(imgpath,\"pod_LRM_pw\",\"png\")"
   ]
  },
  {
   "cell_type": "raw",
   "metadata": {
    "collapsed": false
   },
   "source": [
    "# Relative error\n",
    "\n",
    "acum_sum = np.cumsum(model.sch.timesteps) / u.day\n",
    "# Add \"0\" for the initial conditions\n",
    "acum_sum = np.hstack((0, acum_sum))\n",
    "\n",
    "diff = np.abs(diff)\n",
    "for k in np.arange(0,acum_sum.size, 1): \n",
    "    model.plotCellValues2D(model.grid, diff[:, k], 'inferno', np.min(diff), np.max(diff),\n",
    "                     title='Absolute relative error (%). {:.3f} days'.format(acum_sum[k]), \n",
    "                     filename='{}\\\\pod_error{}'.format(imgpath, k))\n",
    "\n",
    "#Make gif\n",
    "animation.make_gif(imgpath, \"pod_error\")\n",
    "\n",
    "# Delete intermediary images\n",
    "animation.delete_files(imgpath,\"pod_error\",\"png\")"
   ]
  },
  {
   "cell_type": "markdown",
   "metadata": {},
   "source": [
    "<a id=\"ref\"></a>"
   ]
  },
  {
   "cell_type": "markdown",
   "metadata": {},
   "source": [
    "## [References](#table)\n",
    "\n",
    "Astrid, P., Papaioannou, G., Vink, J. C., & Jansen, M. D. (2011, January 1). Pressure Preconditioning Using Proper Orthogonal Decomposition. Society of Petroleum Engineers. doi:10.2118/141922-MS"
   ]
  },
  {
   "cell_type": "markdown",
   "metadata": {},
   "source": [
    "## [To the top](#table)"
   ]
  },
  {
   "cell_type": "code",
   "execution_count": 46,
   "metadata": {
    "collapsed": false
   },
   "outputs": [
    {
     "data": {
      "text/html": [
       "<link href='http://fonts.googleapis.com/css?family=Fenix' rel='stylesheet' type='text/css'>\n",
       "<link href='http://fonts.googleapis.com/css?family=Alegreya+Sans:100,300,400,500,700,800,900,100italic,300italic,400italic,500italic,700italic,800italic,900italic' rel='stylesheet' type='text/css'>\n",
       "<link href='http://fonts.googleapis.com/css?family=Source+Code+Pro:300,400' rel='stylesheet' type='text/css'>\n",
       "<style>\n",
       "    @font-face {\n",
       "        font-family: \"Computer Modern\";\n",
       "        src: url('http://mirrors.ctan.org/fonts/cm-unicode/fonts/otf/cmunss.otf');\n",
       "    }\n",
       "    div.cell{\n",
       "        width:800px;\n",
       "        margin-left:16% !important;\n",
       "        margin-right:auto;\n",
       "    }\n",
       "    h1 {\n",
       "        font-family: 'Alegreya Sans', sans-serif;\n",
       "    }\n",
       "    h2 {\n",
       "        font-family: 'Fenix', serif;\n",
       "    }\n",
       "    h3{\n",
       "\t\tfont-family: 'Fenix', serif;\n",
       "        margin-top:12px;\n",
       "        margin-bottom: 3px;\n",
       "       }\n",
       "\th4{\n",
       "\t\tfont-family: 'Fenix', serif;\n",
       "       }\n",
       "    h5 {\n",
       "        font-family: 'Alegreya Sans', sans-serif;\n",
       "    }\t   \n",
       "    div.text_cell_render{\n",
       "        font-family: 'Alegreya Sans',Computer Modern, \"Helvetica Neue\", Arial, Helvetica, Geneva, sans-serif;\n",
       "        line-height: 135%;\n",
       "        font-size: 120%;\n",
       "        width:600px;\n",
       "        margin-left:auto;\n",
       "        margin-right:auto;\n",
       "    }\n",
       "    .CodeMirror{\n",
       "            font-family: \"Source Code Pro\";\n",
       "\t\t\tfont-size: 90%;\n",
       "    }\n",
       "/*    .prompt{\n",
       "        display: None;\n",
       "    }*/\n",
       "    .text_cell_render h1 {\n",
       "        font-weight: 200;\n",
       "        font-size: 50pt;\n",
       "\t\tline-height: 100%;\n",
       "        color:#CD2305;\n",
       "        margin-bottom: 0.5em;\n",
       "        margin-top: 0.5em;\n",
       "        display: block;\n",
       "    }\t\n",
       "    .text_cell_render h5 {\n",
       "        font-weight: 300;\n",
       "        font-size: 16pt;\n",
       "        color: #CD2305;\n",
       "        font-style: italic;\n",
       "        margin-bottom: .5em;\n",
       "        margin-top: 0.5em;\n",
       "        display: block;\n",
       "    }\n",
       "    \n",
       "    .warning{\n",
       "        color: rgb( 240, 20, 20 )\n",
       "        }  \n",
       "</style>\n",
       "<script>\n",
       "    MathJax.Hub.Config({\n",
       "                        TeX: {\n",
       "                           extensions: [\"AMSmath.js\"]\n",
       "                           },\n",
       "                tex2jax: {\n",
       "                    inlineMath: [ ['$','$'], [\"\\\\(\",\"\\\\)\"] ],\n",
       "                    displayMath: [ ['$$','$$'], [\"\\\\[\",\"\\\\]\"] ]\n",
       "                },\n",
       "                displayAlign: 'center', // Change this to 'center' to center equations.\n",
       "                \"HTML-CSS\": {\n",
       "                    styles: {'.MathJax_Display': {\"margin\": 4}}\n",
       "                }\n",
       "        });\n",
       "</script>\n",
       "\n"
      ],
      "text/plain": [
       "<IPython.core.display.HTML object>"
      ]
     },
     "execution_count": 46,
     "metadata": {},
     "output_type": "execute_result"
    }
   ],
   "source": [
    "from IPython.core.display import HTML\n",
    "def css_styling():\n",
    "    styles = open(\"./styles/custom.css\", \"r\").read()\n",
    "    return HTML(styles)\n",
    "css_styling()\n",
    "\n",
    "# Using the style sheet found here  Lorena Barba /* https://github.com/barbagroup/CFDPython/blob/master/styles/custom.css */"
   ]
  },
  {
   "cell_type": "code",
   "execution_count": null,
   "metadata": {
    "collapsed": true
   },
   "outputs": [],
   "source": []
  }
 ],
 "metadata": {
  "kernelspec": {
   "display_name": "Python 3",
   "language": "python",
   "name": "python3"
  },
  "language_info": {
   "codemirror_mode": {
    "name": "ipython",
    "version": 3
   },
   "file_extension": ".py",
   "mimetype": "text/x-python",
   "name": "python",
   "nbconvert_exporter": "python",
   "pygments_lexer": "ipython3",
   "version": "3.5.1"
  }
 },
 "nbformat": 4,
 "nbformat_minor": 0
}
