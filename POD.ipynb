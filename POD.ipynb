{
 "cells": [
  {
   "cell_type": "markdown",
   "metadata": {},
   "source": [
    "# Reduction of Order Modeling with Proper Orthogonal Decomposition"
   ]
  },
  {
   "cell_type": "markdown",
   "metadata": {},
   "source": [
    "<a id=\"table\"></a>"
   ]
  },
  {
   "cell_type": "markdown",
   "metadata": {},
   "source": [
    "## Table of contents\n",
    "- [High Resolution Simulation](#HR)\n",
    "- [Snapshots](#)\n",
    "- [Basis](#)\n",
    "- [Time improvement](#)\n",
    "- [Error](#)"
   ]
  },
  {
   "cell_type": "markdown",
   "metadata": {},
   "source": [
    "- Modify program\n",
    "- Capture snapshots\n",
    "- Do clustering\n",
    "- Do POD\n",
    "- Select basis accoding to energy value\n",
    "- Run reduced model\n",
    "- Compare HOR and ROM results\n",
    "- Compare Speed of solution\n"
   ]
  },
  {
   "cell_type": "code",
   "execution_count": 49,
   "metadata": {
    "collapsed": false
   },
   "outputs": [],
   "source": [
    "%matplotlib inline\n",
    "from time import process_time\n",
    "from scipy import linalg\n",
    "from matplotlib import pyplot as plt"
   ]
  },
  {
   "cell_type": "markdown",
   "metadata": {},
   "source": [
    "<a id=\"HR\"></a>"
   ]
  },
  {
   "cell_type": "markdown",
   "metadata": {},
   "source": [
    "## [High Resolution Model](#table)\n",
    "\n",
    "The reservoir model is   <a href = http://nbviewer.jupyter.org/github/JaimeLeal/projects/blob/master/Simulator_Two_Phase_Flow.ipynb?flush_cache=true target=_blank>  (this is Example \\#2 in the \"Two Phase Flow\" Notebook)</a>"
   ]
  },
  {
   "cell_type": "code",
   "execution_count": 42,
   "metadata": {
    "collapsed": false
   },
   "outputs": [
    {
     "name": "stdout",
     "output_type": "stream",
     "text": [
      "Time running simulation = 24.945 seconds.\n"
     ]
    }
   ],
   "source": [
    "# Load the reservoir model \n",
    "exec(open(\".\\\\scripts\\\\reservoir_model_01.py\").read())\n",
    "# Run the model and measure the time\n",
    "\n",
    "# Initialize Fully Implicit Solver\n",
    "FIM = ImplicitTwoPhase(\n",
    "    grid, rock, fluid, wells, source, p_init, sw_init, boundary, gravity=True)\n",
    "\n",
    "# Run simulation\n",
    "t = process_time()\n",
    "results, well_solution, sch, info = FIM.solve(sch, max_iter= 10, tol = 1E-6, ATS = False)\n",
    "\n",
    "elapsed_time = process_time() - t\n",
    "print('Time running simulation = {:.3f} seconds.'.format(elapsed_time))"
   ]
  },
  {
   "cell_type": "code",
   "execution_count": 201,
   "metadata": {
    "collapsed": false
   },
   "outputs": [],
   "source": [
    "# Singular value decomposition\n",
    "U,S,V = linalg.svd(results['p_oil'][:,:])"
   ]
  },
  {
   "cell_type": "code",
   "execution_count": 202,
   "metadata": {
    "collapsed": false
   },
   "outputs": [],
   "source": [
    "cumulative_energy = np.array(S**2).cumsum()\n",
    "cumulative_energy = cumulative_energy/np.array(S**2).sum() * 100"
   ]
  },
  {
   "cell_type": "code",
   "execution_count": null,
   "metadata": {
    "collapsed": true
   },
   "outputs": [],
   "source": []
  },
  {
   "cell_type": "code",
   "execution_count": 203,
   "metadata": {
    "collapsed": false
   },
   "outputs": [
    {
     "data": {
      "image/png": "[encoded data removed]",
      "text/plain": [
       "<matplotlib.figure.Figure at 0x92fb370>"
      ]
     },
     "metadata": {},
     "output_type": "display_data"
    }
   ],
   "source": [
    "fig = plt.figure()\n",
    "\n",
    "# Energy subplot\n",
    "ax1 = fig.add_subplot(2,1,1)\n",
    "line = ax1.plot(S**2, \"o-\",linewidth=1)\n",
    "ax1.set_yscale(\"log\")\n",
    "plt.title(\"Basis vector vs Energy\")\n",
    "plt.xlabel(\"Basis vector number\")\n",
    "plt.ylabel(\"Energy\");\n",
    "plt.axis([0, None, None, None])\n",
    "\n",
    "# Cumulative energy subplot\n",
    "ax2 = fig.add_subplot(2,1,2)\n",
    "line = ax2.plot(cumulative_energy, \"o-\",linewidth=1)\n",
    "ax2.axis([0, None, 90, 101])\n",
    "plt.title(\"Cummulative Energy\")\n",
    "plt.xlabel(\"Basis vector number\")\n",
    "plt.ylabel(\"Cummulative Energy\");\n",
    "\n",
    "plt.tight_layout()"
   ]
  },
  {
   "cell_type": "code",
   "execution_count": 204,
   "metadata": {
    "collapsed": false
   },
   "outputs": [
    {
     "data": {
      "text/plain": [
       "array([ 99.92653953,  99.99487345,  99.9987476 ,  99.99946715,\n",
       "        99.99971042,  99.99981011])"
      ]
     },
     "execution_count": 204,
     "metadata": {},
     "output_type": "execute_result"
    }
   ],
   "source": [
    "cumulative_energy[:6]"
   ]
  },
  {
   "cell_type": "code",
   "execution_count": 205,
   "metadata": {
    "collapsed": false
   },
   "outputs": [
    {
     "name": "stderr",
     "output_type": "stream",
     "text": [
      "C:\\Users\\Jaime\\Anaconda3\\lib\\site-packages\\matplotlib\\figure.py:1718: UserWarning: This figure includes Axes that are not compatible with tight_layout, so its results might be incorrect.\n",
      "  warnings.warn(\"This figure includes Axes that are not \"\n"
     ]
    },
    {
     "data": {
      "image/png": "[encoded data removed]",
      "text/plain": [
       "<matplotlib.figure.Figure at 0x92be570>"
      ]
     },
     "metadata": {},
     "output_type": "display_data"
    }
   ],
   "source": [
    "nrows = 3\n",
    "ncols = 4\n",
    "layer_num = 12\n",
    "\n",
    "cell_values = U[0:100,:layer_num]\n",
    "\n",
    "fig, axes = plt.subplots(nrows=int(nrows), ncols=int(ncols))\n",
    "colormap = \"inferno\"\n",
    "vmin = cell_values.min()\n",
    "vmax = cell_values.max()\n",
    "title = \"Bases\"\n",
    "\n",
    "for layer in range(0, layer_num):\n",
    "    Z = cell_values[:, layer]\n",
    "    Z = Z.reshape([grid.dim[0], grid.dim[1]], order='F')\n",
    "    ax = axes.flat[layer]\n",
    "    im = ax.pcolor(Z, cmap=colormap, vmin=vmin, vmax=vmax)\n",
    "    ax.set_title(\"Basis vector {}\".format(layer))\n",
    "    # Limits for the axes\n",
    "    ax.set_ylim([0, grid.dim[0]])\n",
    "    ax.set_xlim([0, grid.dim[1]])\n",
    "    # Erase the ticks\n",
    "    ax.get_xaxis().set_ticks([])\n",
    "    ax.get_yaxis().set_ticks([])\n",
    "    ax.set_aspect('equal', adjustable='box-forced')\n",
    "    ax.invert_yaxis()\n",
    "\n",
    "    # Hide the empty axes\n",
    "    for i in range(int(layer_num), int(ncols * nrows)):\n",
    "        axes.flat[i].axis('off')\n",
    "    # Color bar\n",
    "    cbar_ax = fig.add_axes([1, 0.15, 0.05, 0.7])\n",
    "    fig.colorbar(im, cax=cbar_ax)\n",
    "    #plt.suptitle(title)\n",
    "    plt.tight_layout()"
   ]
  },
  {
   "cell_type": "markdown",
   "metadata": {},
   "source": [
    "Now, we will apply the proper orthogonal decomposition technique to the reservoir simulator to speed up the simulation. \n"
   ]
  },
  {
   "cell_type": "code",
   "execution_count": 170,
   "metadata": {
    "collapsed": false
   },
   "outputs": [
    {
     "name": "stderr",
     "output_type": "stream",
     "text": [
      "C:\\Users\\Jaime\\Anaconda3\\lib\\site-packages\\matplotlib\\figure.py:1718: UserWarning: This figure includes Axes that are not compatible with tight_layout, so its results might be incorrect.\n",
      "  warnings.warn(\"This figure includes Axes that are not \"\n"
     ]
    },
    {
     "data": {
      "image/png": "[encoded data removed]",
      "text/plain": [
       "<matplotlib.figure.Figure at 0xf8cffb0>"
      ]
     },
     "metadata": {},
     "output_type": "display_data"
    }
   ],
   "source": [
    "p_oil = results['p_oil'][:,:]/u.psi\n",
    "sw = results['sw'][:,:]\n",
    "\n",
    "acum_sum = np.cumsum(sch.timesteps) / u.day\n",
    "acum_sum = np.hstack((0, acum_sum))\n",
    "\n",
    "for k in np.arange(0, acum_sum.size, 10):\n",
    "    plotCellValues2D(grid, p_oil[:, k], 'inferno', np.min(p_oil), np.max(p_oil),\n",
    "                     title='Oil pressure. {:.3f} days'.format(acum_sum[k]), \n",
    "                     filename='{}\\\\2ph_ex1_po_{}'.format(imgpath,k))\n",
    "\n",
    "for k in np.arange(0, acum_sum.size, 10):\n",
    "    plotCellValues2D(grid, sw[:, k], 'plasma', np.min(sw), np.max(sw),\n",
    "                     title='Water saturation. {:.3f} days'.format(acum_sum[k]), \n",
    "                     filename='{}\\\\2ph_ex1_sw_{}'.format(imgpath,k))"
   ]
  },
  {
   "cell_type": "code",
   "execution_count": 172,
   "metadata": {
    "collapsed": false
   },
   "outputs": [
    {
     "data": {
      "text/html": [
       "<link href='http://fonts.googleapis.com/css?family=Fenix' rel='stylesheet' type='text/css'>\n",
       "<link href='http://fonts.googleapis.com/css?family=Alegreya+Sans:100,300,400,500,700,800,900,100italic,300italic,400italic,500italic,700italic,800italic,900italic' rel='stylesheet' type='text/css'>\n",
       "<link href='http://fonts.googleapis.com/css?family=Source+Code+Pro:300,400' rel='stylesheet' type='text/css'>\n",
       "<style>\n",
       "    @font-face {\n",
       "        font-family: \"Computer Modern\";\n",
       "        src: url('http://mirrors.ctan.org/fonts/cm-unicode/fonts/otf/cmunss.otf');\n",
       "    }\n",
       "    div.cell{\n",
       "        width:800px;\n",
       "        margin-left:16% !important;\n",
       "        margin-right:auto;\n",
       "    }\n",
       "    h1 {\n",
       "        font-family: 'Alegreya Sans', sans-serif;\n",
       "    }\n",
       "    h2 {\n",
       "        font-family: 'Fenix', serif;\n",
       "    }\n",
       "    h3{\n",
       "\t\tfont-family: 'Fenix', serif;\n",
       "        margin-top:12px;\n",
       "        margin-bottom: 3px;\n",
       "       }\n",
       "\th4{\n",
       "\t\tfont-family: 'Fenix', serif;\n",
       "       }\n",
       "    h5 {\n",
       "        font-family: 'Alegreya Sans', sans-serif;\n",
       "    }\t   \n",
       "    div.text_cell_render{\n",
       "        font-family: 'Alegreya Sans',Computer Modern, \"Helvetica Neue\", Arial, Helvetica, Geneva, sans-serif;\n",
       "        line-height: 135%;\n",
       "        font-size: 120%;\n",
       "        width:600px;\n",
       "        margin-left:auto;\n",
       "        margin-right:auto;\n",
       "    }\n",
       "    .CodeMirror{\n",
       "            font-family: \"Source Code Pro\";\n",
       "\t\t\tfont-size: 90%;\n",
       "    }\n",
       "/*    .prompt{\n",
       "        display: None;\n",
       "    }*/\n",
       "    .text_cell_render h1 {\n",
       "        font-weight: 200;\n",
       "        font-size: 50pt;\n",
       "\t\tline-height: 100%;\n",
       "        color:#CD2305;\n",
       "        margin-bottom: 0.5em;\n",
       "        margin-top: 0.5em;\n",
       "        display: block;\n",
       "    }\t\n",
       "    .text_cell_render h5 {\n",
       "        font-weight: 300;\n",
       "        font-size: 16pt;\n",
       "        color: #CD2305;\n",
       "        font-style: italic;\n",
       "        margin-bottom: .5em;\n",
       "        margin-top: 0.5em;\n",
       "        display: block;\n",
       "    }\n",
       "    \n",
       "    .warning{\n",
       "        color: rgb( 240, 20, 20 )\n",
       "        }  \n",
       "</style>\n",
       "<script>\n",
       "    MathJax.Hub.Config({\n",
       "                        TeX: {\n",
       "                           extensions: [\"AMSmath.js\"]\n",
       "                           },\n",
       "                tex2jax: {\n",
       "                    inlineMath: [ ['$','$'], [\"\\\\(\",\"\\\\)\"] ],\n",
       "                    displayMath: [ ['$$','$$'], [\"\\\\[\",\"\\\\]\"] ]\n",
       "                },\n",
       "                displayAlign: 'center', // Change this to 'center' to center equations.\n",
       "                \"HTML-CSS\": {\n",
       "                    styles: {'.MathJax_Display': {\"margin\": 4}}\n",
       "                }\n",
       "        });\n",
       "</script>\n",
       "\n"
      ],
      "text/plain": [
       "<IPython.core.display.HTML object>"
      ]
     },
     "execution_count": 172,
     "metadata": {},
     "output_type": "execute_result"
    }
   ],
   "source": [
    "from IPython.core.display import HTML\n",
    "def css_styling():\n",
    "    styles = open(\"./styles/custom.css\", \"r\").read()\n",
    "    return HTML(styles)\n",
    "css_styling()\n",
    "\n",
    "# Using the style sheet found here  Lorena Barba /* https://github.com/barbagroup/CFDPython/blob/master/styles/custom.css */"
   ]
  },
  {
   "cell_type": "code",
   "execution_count": null,
   "metadata": {
    "collapsed": false
   },
   "outputs": [],
   "source": []
  },
  {
   "cell_type": "code",
   "execution_count": null,
   "metadata": {
    "collapsed": true
   },
   "outputs": [],
   "source": []
  },
  {
   "cell_type": "code",
   "execution_count": null,
   "metadata": {
    "collapsed": true
   },
   "outputs": [],
   "source": []
  }
 ],
 "metadata": {
  "kernelspec": {
   "display_name": "Python 3",
   "language": "python",
   "name": "python3"
  },
  "language_info": {
   "codemirror_mode": {
    "name": "ipython",
    "version": 3
   },
   "file_extension": ".py",
   "mimetype": "text/x-python",
   "name": "python",
   "nbconvert_exporter": "python",
   "pygments_lexer": "ipython3",
   "version": "3.5.1"
  }
 },
 "nbformat": 4,
 "nbformat_minor": 0
}
