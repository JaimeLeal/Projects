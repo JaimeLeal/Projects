{
 "cells": [
  {
   "cell_type": "markdown",
   "metadata": {},
   "source": [
    "# Single Phase Flow Examples"
   ]
  },
  {
   "cell_type": "markdown",
   "metadata": {},
   "source": [
    "<a id='table'></a>"
   ]
  },
  {
   "cell_type": "markdown",
   "metadata": {},
   "source": [
    "## Examples\n",
    "\n",
    "- [Example 1. Boundary conditions](#ex1)\n",
    "<img src=\".\\images\\ex1.gif\">\n",
    "\n",
    "- [Example 2. Three injectors and one producer](#ex2)\n",
    "<img src=\".\\images\\ex2.gif\">"
   ]
  },
  {
   "cell_type": "code",
   "execution_count": 1,
   "metadata": {
    "collapsed": true,
    "scrolled": true
   },
   "outputs": [],
   "source": [
    "from modules.simulator.simulator import *\n",
    "from modules.simulator.two_phase_flow import *\n",
    "from modules.simulator.simplots import *\n",
    "from modules.simulator.units import UnitRegistry\n",
    "import numpy as np\n",
    "\n",
    "# Set image folder path\n",
    "imgpath = \".\\\\images\"\n",
    "# Units\n",
    "u = UnitRegistry()"
   ]
  },
  {
   "cell_type": "markdown",
   "metadata": {},
   "source": [
    "<a id='ex1'></a>"
   ]
  },
  {
   "cell_type": "code",
   "execution_count": 2,
   "metadata": {
    "collapsed": false
   },
   "outputs": [],
   "source": [
    "# Same fluid for all the examples\n",
    "# FLUID\n",
    "cf = 5E-5 / u.psi\n",
    "miu = lambda p:  1.0 * np.exp(5E-5 * (p/u.psi -2800)) * u.centi * u.poise\n",
    "rho = lambda p: 800 * np.exp(cf * (p - 15 * u.psi) )  * u.kilogram/ u.meter**3\n",
    "fvf = lambda p: 1.0 * np.exp(- cf * (p - 15 * u.psi) )   # adimensional\n",
    "fluid = singleFluid(miu, rho, fvf, cf)"
   ]
  },
  {
   "cell_type": "markdown",
   "metadata": {},
   "source": [
    "## [Example 1. Boundary conditions](#table)\n",
    "\n",
    "In this example there is a single rock layer. The layer is 5 cells by 30 cells. It has a constant pressure in the West face of 3000 psi and a pressure of 2900 in the East face. The initial pressure is 3000 psi for all the cells. The simulation is run for 20 timesteps of 0.01 days with the Lagging Coefficient Solver."
   ]
  },
  {
   "cell_type": "code",
   "execution_count": 3,
   "metadata": {
    "collapsed": false,
    "scrolled": true
   },
   "outputs": [
    {
     "name": "stdout",
     "output_type": "stream",
     "text": [
      " \t Inner loop 2 / 2"
     ]
    }
   ],
   "source": [
    "# GRID\n",
    "Nx, Ny, Nz = np.array([5, 30, 1])\n",
    "Sx, Sy, Sz = np.array([1, 1, 1]) * 0.1 * u.meter\n",
    "depth = np.hstack((Sz * 1 * np.ones([Nx * Ny, ])))\n",
    "grid = uniformCartesianGrid(Nx, Ny, Nz, Sx, Sy, Sz, depth)\n",
    "\n",
    "# ROCK\n",
    "poro = np.random.random_sample(grid.cellnumber)\n",
    "perm = 5 * np.random.random_sample(grid.cellnumber) * u.milli * u.darcy\n",
    "cr = 3E-6 / u.psi\n",
    "porofunc = lambda p: poro * np.exp(cr * (p - 2800 * u.psi))\n",
    "rock = Rock(perm, poro, cr, porofunc)\n",
    "\n",
    "# SCHEDULE\n",
    "timesteps = 0.01 * np.ones(20) *u.day\n",
    "sch = Schedule(timesteps)\n",
    "\n",
    "# SOURCE TERM\n",
    "source_empty = np.zeros([grid.cellnumber, 1])\n",
    "\n",
    "# BOUNDARY\n",
    "boundary = Boundary()\n",
    "# North side of reservoir has a constant  pressure of 2300 psi\n",
    "boundary.set_boundary_condition('W', 'constant-pressure', 3000 * u.psi)\n",
    "boundary.set_boundary_condition('E', 'constant-pressure', 2900 * u.psi)\n",
    "\n",
    "# Set initial conditions\n",
    "p_init = 3000 * u.psi * np.ones([grid.cellnumber, ])\n",
    "\n",
    "# WELLS\n",
    "# Empty wells term\n",
    "wells_empty = Wells(grid, rock, fluid)\n",
    "\n",
    "# Initilize solver\n",
    "LCM = LaggingCoefficients(\n",
    "    grid, rock, fluid, wells_empty, source_empty, p_init, boundary, gravity=True)\n",
    "\n",
    "# Run simulation\n",
    "r, well_solution, sch = LCM.solve(sch, max_inner_iter = 2, tol = 1E-6, ATS = False)\n",
    "\n",
    "# Transform units to psi\n",
    "p = r/u.psi\n",
    "\n",
    "# We will  save a plot for each timestep and then use \n",
    "# ffmpeg to create a gif\n",
    "acum_sum = np.cumsum(sch.timesteps) / u.day\n",
    "# Add \"0\" for the initial conditions\n",
    "acum_sum = np.hstack((0, acum_sum))\n",
    "\n",
    "for k in np.arange(0,acum_sum.size, 1): \n",
    "    plotCellValues2D(grid, p[:, k], 'inferno', np.min(p), np.max(p),\n",
    "                     title='Pressure (psi). {:.3f} days'.format(acum_sum[k]), \n",
    "                     filename='{}\\\\ex1_{}'.format(imgpath, k))"
   ]
  },
  {
   "cell_type": "markdown",
   "metadata": {},
   "source": [
    "<a id='ex2'></a>"
   ]
  },
  {
   "cell_type": "markdown",
   "metadata": {},
   "source": [
    "## [Example 2. Three injectors and one producer.](#table)\n",
    "\n",
    "In this example there are three layers of rock, each one with measures of 10 by 10 cells. Each cell is a cube with a side of 1 meter. There are three injectors and one producer well in the bottom layer. The simulation is run for 2 days with the Fully Implicit Method."
   ]
  },
  {
   "cell_type": "code",
   "execution_count": 5,
   "metadata": {
    "collapsed": false,
    "scrolled": true
   },
   "outputs": [
    {
     "name": "stdout",
     "output_type": "stream",
     "text": [
      "  \t Newton-Raphson solver :  4/10. Error: 3.35E-16"
     ]
    },
    {
     "name": "stderr",
     "output_type": "stream",
     "text": [
      "C:\\Users\\Jaime\\Anaconda3\\lib\\site-packages\\matplotlib\\figure.py:1718: UserWarning: This figure includes Axes that are not compatible with tight_layout, so its results might be incorrect.\n",
      "  warnings.warn(\"This figure includes Axes that are not \"\n"
     ]
    }
   ],
   "source": [
    "# GRID\n",
    "Nx, Ny, Nz = np.array([10, 10, 3])\n",
    "Sx, Sy, Sz = np.array([1, 1, 1]) * 1 * u.meter\n",
    "depth = np.hstack((Sz * 1 * np.ones([Nx * Ny, ]), \n",
    "                  Sz * 1 * np.ones([Nx * Ny, ]),\n",
    "                  Sz * 1 * np.ones([Nx * Ny, ])))\n",
    "\n",
    "grid = uniformCartesianGrid(Nx, Ny, Nz, Sx, Sy, Sz, depth)\n",
    "\n",
    "# ROCK\n",
    "poro = np.random.random_sample(grid.cellnumber)\n",
    "perm = 10 * np.random.random_sample(grid.cellnumber) * u.milli * u.darcy\n",
    "cr = 3E-6 / u.psi\n",
    "porofunc = lambda p: poro * np.exp(cr * (p - 2800 * u.psi))\n",
    "rock = Rock(perm, poro, cr, porofunc)\n",
    "\n",
    "#SOURCE\n",
    "source2 = np.zeros([grid.cellnumber, 1])\n",
    "source2[25] = -2 * u.barrel/u.hour\n",
    "source2[50] = -2 * u.barrel/u.hour\n",
    "source2[9] = -1 * u.barrel/u.hour\n",
    "\n",
    "# BOUNDARY\n",
    "empty_boundary = Boundary()\n",
    "\n",
    "# INITIAL CONDITIONS\n",
    "p_init = 3000 * u.psi * np.ones([grid.cellnumber, ])\n",
    "\n",
    "# --- WELLS\n",
    "wells = Wells(grid, rock, fluid)\n",
    "wells.add_vertical_well(0.35 * u.feet, 99, 2500 * u.psi, 0, 'Producer 1' )\n",
    "\n",
    "# --- Initilize simulator\n",
    "# SCHEDULE\n",
    "timesteps = 0.01 * np.ones(200) *u.day\n",
    "sch = Schedule(timesteps)\n",
    "\n",
    "FIM  = ImplicitAnalytic(\n",
    "    grid, rock, fluid, wells, source2, p_init, empty_boundary, gravity=True)\n",
    "\n",
    "r, well_solution = FIM.solve(sch)\n",
    "\n",
    "# Transform units to psi\n",
    "p = r/u.psi\n",
    "\n",
    "# We will  save a plot for each timestep and then use \n",
    "# ffmpeg to create a gif\n",
    "acum_sum = np.cumsum(sch.timesteps) / u.day\n",
    "acum_sum = np.hstack((0, acum_sum))\n",
    "\n",
    "for k in np.arange(0, acum_sum.size, 1):\n",
    "    plotCellValues2D(grid, p[:, k], 'inferno', np.min(p), np.max(p),\n",
    "                     title='Pressure (psi). {:.3f} days'.format(acum_sum[k]), \n",
    "                     filename='{}\\\\ex2_{}'.format(imgpath, k))"
   ]
  },
  {
   "cell_type": "markdown",
   "metadata": {},
   "source": [
    "<a id=\"ex3\" ></a>"
   ]
  },
  {
   "cell_type": "code",
   "execution_count": 6,
   "metadata": {
    "collapsed": false,
    "scrolled": true
   },
   "outputs": [
    {
     "data": {
      "text/html": [
       "<link href='http://fonts.googleapis.com/css?family=Fenix' rel='stylesheet' type='text/css'>\n",
       "<link href='http://fonts.googleapis.com/css?family=Alegreya+Sans:100,300,400,500,700,800,900,100italic,300italic,400italic,500italic,700italic,800italic,900italic' rel='stylesheet' type='text/css'>\n",
       "<link href='http://fonts.googleapis.com/css?family=Source+Code+Pro:300,400' rel='stylesheet' type='text/css'>\n",
       "<style>\n",
       "    @font-face {\n",
       "        font-family: \"Computer Modern\";\n",
       "        src: url('http://mirrors.ctan.org/fonts/cm-unicode/fonts/otf/cmunss.otf');\n",
       "    }\n",
       "    div.cell{\n",
       "        width:800px;\n",
       "        margin-left:16% !important;\n",
       "        margin-right:auto;\n",
       "    }\n",
       "    h1 {\n",
       "        font-family: 'Alegreya Sans', sans-serif;\n",
       "    }\n",
       "    h2 {\n",
       "        font-family: 'Fenix', serif;\n",
       "    }\n",
       "    h3{\n",
       "\t\tfont-family: 'Fenix', serif;\n",
       "        margin-top:12px;\n",
       "        margin-bottom: 3px;\n",
       "       }\n",
       "\th4{\n",
       "\t\tfont-family: 'Fenix', serif;\n",
       "       }\n",
       "    h5 {\n",
       "        font-family: 'Alegreya Sans', sans-serif;\n",
       "    }\t   \n",
       "    div.text_cell_render{\n",
       "        font-family: 'Alegreya Sans',Computer Modern, \"Helvetica Neue\", Arial, Helvetica, Geneva, sans-serif;\n",
       "        line-height: 135%;\n",
       "        font-size: 120%;\n",
       "        width:600px;\n",
       "        margin-left:auto;\n",
       "        margin-right:auto;\n",
       "    }\n",
       "    .CodeMirror{\n",
       "            font-family: \"Source Code Pro\";\n",
       "\t\t\tfont-size: 90%;\n",
       "    }\n",
       "/*    .prompt{\n",
       "        display: None;\n",
       "    }*/\n",
       "    .text_cell_render h1 {\n",
       "        font-weight: 200;\n",
       "        font-size: 50pt;\n",
       "\t\tline-height: 100%;\n",
       "        color:#CD2305;\n",
       "        margin-bottom: 0.5em;\n",
       "        margin-top: 0.5em;\n",
       "        display: block;\n",
       "    }\t\n",
       "    .text_cell_render h5 {\n",
       "        font-weight: 300;\n",
       "        font-size: 16pt;\n",
       "        color: #CD2305;\n",
       "        font-style: italic;\n",
       "        margin-bottom: .5em;\n",
       "        margin-top: 0.5em;\n",
       "        display: block;\n",
       "    }\n",
       "    \n",
       "    .warning{\n",
       "        color: rgb( 240, 20, 20 )\n",
       "        }  \n",
       "</style>\n",
       "<script>\n",
       "    MathJax.Hub.Config({\n",
       "                        TeX: {\n",
       "                           extensions: [\"AMSmath.js\"]\n",
       "                           },\n",
       "                tex2jax: {\n",
       "                    inlineMath: [ ['$','$'], [\"\\\\(\",\"\\\\)\"] ],\n",
       "                    displayMath: [ ['$$','$$'], [\"\\\\[\",\"\\\\]\"] ]\n",
       "                },\n",
       "                displayAlign: 'center', // Change this to 'center' to center equations.\n",
       "                \"HTML-CSS\": {\n",
       "                    styles: {'.MathJax_Display': {\"margin\": 4}}\n",
       "                }\n",
       "        });\n",
       "</script>\n",
       "\n"
      ],
      "text/plain": [
       "<IPython.core.display.HTML object>"
      ]
     },
     "execution_count": 6,
     "metadata": {},
     "output_type": "execute_result"
    }
   ],
   "source": [
    "from IPython.core.display import HTML\n",
    "def css_styling():\n",
    "    styles = open(\"./styles/custom.css\", \"r\").read()\n",
    "    return HTML(styles)\n",
    "css_styling()\n",
    "\n",
    "# I am using the style sheet found here  Lorena Barba https://github.com/barbagroup/CFDPython/blob/master/styles/custom.css"
   ]
  }
 ],
 "metadata": {
  "kernelspec": {
   "display_name": "Python 3",
   "language": "python",
   "name": "python3"
  },
  "language_info": {
   "codemirror_mode": {
    "name": "ipython",
    "version": 3
   },
   "file_extension": ".py",
   "mimetype": "text/x-python",
   "name": "python",
   "nbconvert_exporter": "python",
   "pygments_lexer": "ipython3",
   "version": "3.5.1"
  }
 },
 "nbformat": 4,
 "nbformat_minor": 0
}
