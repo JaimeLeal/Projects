{
 "cells": [
  {
   "cell_type": "markdown",
   "metadata": {},
   "source": [
    "<a id=\"top\"></a>"
   ]
  },
  {
   "cell_type": "markdown",
   "metadata": {},
   "source": [
    "# Two Phase Flow Examples"
   ]
  },
  {
   "cell_type": "markdown",
   "metadata": {},
   "source": [
    "<a id = \"table\"></a>"
   ]
  },
  {
   "cell_type": "markdown",
   "metadata": {},
   "source": [
    "## Examples\n",
    "\n",
    "[Example 1. One injector, one producer well.](#ex1)\n",
    "\n",
    "<img src=\".\\images\\2ph_ex1_sw.gif\" width=400>\n",
    "<img src=\".\\images\\2ph_ex1_po.gif\" width=400>\n",
    "\n",
    "[Example 2. Two injectors, one producer well, and a low permeability region.](#ex2)\n",
    "\n",
    "<img src=\".\\images\\2ph_ex2_sw.gif\" width=400>\n",
    "<img src=\".\\images\\2ph_ex2_po.gif\" width=400>"
   ]
  },
  {
   "cell_type": "markdown",
   "metadata": {},
   "source": [
    "<a id = \"ex1\"></a>"
   ]
  },
  {
   "cell_type": "code",
   "execution_count": 1,
   "metadata": {
    "collapsed": false
   },
   "outputs": [],
   "source": [
    "from modules.simulator.simulator import *\n",
    "from modules.simulator.two_phase_flow import *\n",
    "from modules.simulator.simplots import *\n",
    "from modules.simulator.units import UnitRegistry\n",
    "import numpy as np\n",
    "\n",
    "# Set image folder path\n",
    "imgpath = \".\\\\images\"\n",
    "# Units\n",
    "u = UnitRegistry()"
   ]
  },
  {
   "cell_type": "markdown",
   "metadata": {},
   "source": [
    "## [Example 1. One injector and  one producer well.](#table)\n",
    "\n",
    "\n",
    "Two  layers with 10 by 10 cells, with one water injector in the bottom layer and one oil producer in the top layer. The simulation is run for 110 days with the Fully Implicit Method."
   ]
  },
  {
   "cell_type": "code",
   "execution_count": 2,
   "metadata": {
    "collapsed": false
   },
   "outputs": [
    {
     "name": "stdout",
     "output_type": "stream",
     "text": [
      "  \t Newton-Raphson solver :  2/10. Error: 6.39E-14"
     ]
    }
   ],
   "source": [
    "# GRID\n",
    "Nx, Ny, Nz = np.array([10, 10, 2])\n",
    "Sx, Sy, Sz = np.array([30, 30, 30]) * u.feet\n",
    "\n",
    "depth = np.hstack((Sz * 0 * np.ones([Nx * Ny, ]), \n",
    "                  Sz * 1 * np.ones([Nx * Ny, ])))\n",
    "                \n",
    "grid = uniformCartesianGrid(Nx, Ny, Nz, Sx, Sy, Sz, depth)\n",
    "\n",
    "# ROCK\n",
    "perm = 100 * np.ones([grid.cellnumber, ]) * u.milli * u.darcy\n",
    "poro = 0.15 * np.ones([grid.cellnumber, ])\n",
    "# Rock compressibility equal for all cells\n",
    "cr = 3E-6 / u.psi\n",
    "porofunc = lambda p: poro * np.exp(cr * (p - 2800 * u.psi))\n",
    "rock = Rock(perm, poro, cr, porofunc)\n",
    "\n",
    "#  FLUID\n",
    "# Oil phase\n",
    "cf_o = 1E-5 / u.psi\n",
    "miu_o = lambda p: ( -6E-5 * (p / u.psi) + 1.1791 ) * u.centi * u.poise\n",
    "rho_o = lambda p: 45 * np.exp(cf_o * (p - 2800 * u.psi)) * u.pound / u.feet**3\n",
    "fvf_o = lambda p : -1E-5 * (p / u.psi) + 1.018\n",
    "# Water phase\n",
    "cf_w = 3E-6 / u.psi\n",
    "miu_w = lambda p: 1 * np.exp(5E-5 * (p / u.psi - 2800)) * u.centi * u.poise\n",
    "#miu_w = lambda p: (1 +  5E-5 * (p / u.psi - 2800)) * u.centi * u.poise\n",
    "rho_w = lambda p: 62.4 * np.exp(cf_w * (p - 2800 * u.psi)) * u.pound / u.feet**3\n",
    "fvf_w = lambda p: 1 * np.exp(-3E-6 * (p / u.psi - 2800 ))   # adimensional\n",
    "\n",
    "# Relative permeability functions\n",
    "Swr = 0.25\n",
    "Sor = 0.30\n",
    "Swmin = Swr\n",
    "Somin = Sor\n",
    "Korw = 0.08\n",
    "Koro = 0.7\n",
    "Swmax = 1 - Somin\n",
    "Somax = 1 - Swmin\n",
    "\n",
    "kr_o = lambda So: Koro * ((So - Sor) / (1 - Sor - Swr)) ** 3\n",
    "kr_w = lambda Sw: Korw * ((Sw - Swr) / (1 - Sor - Swr)) ** 2\n",
    "\n",
    "\n",
    "dkr_o = lambda So: 3 * Koro  * (So - Sor) ** 2 / (1 - Sor - Swr) ** 3\n",
    "dkr_w = lambda Sw: 2 * Korw * (Sw - Swr) / (1 - Sor - Swr) ** 2\n",
    "\n",
    "def krwfunc(Sw):\n",
    "    ''' Water relative permeambility\n",
    "    Argument: Sw (np.array)'''\n",
    "    kr = np.zeros_like(Sw)\n",
    "    imin = Sw <= Swmin\n",
    "    imax = Sw >= Swmax\n",
    "    i = np.logical_not(np.logical_or(imin, imax))\n",
    "    # The array is already filled with zeros    \n",
    "    # kr[imin] = 0 \n",
    "    kr[i] = kr_w(Sw[i])\n",
    "    kr[imax] = Korw\n",
    "    return kr\n",
    "\n",
    "def krofunc(Sw):\n",
    "    ''' Oil relative permeambility\n",
    "    Argument: Sw (np.array)'''\n",
    "    So = 1 - Sw\n",
    "    kr = np.zeros_like(So)\n",
    "    imin = So <= Somin\n",
    "    imax = So >= Somax\n",
    "    i = np.logical_not(np.logical_or(imin, imax))\n",
    "    # The array is already filled with zeros\n",
    "    # kr[imin] = 0\n",
    "    kr[i] = kr_o(So[i])\n",
    "    kr[imax] = Koro\n",
    "    return kr\n",
    "\n",
    "\n",
    "def d_krwfunc(Sw):\n",
    "    ''' Water relative permeambility\n",
    "    Argument: Sw (np.array)'''\n",
    "    kr = np.zeros_like(Sw)\n",
    "    imin = Sw <= Swmin\n",
    "    imax = Sw >= Swmax\n",
    "    i = np.logical_not(np.logical_or(imin, imax))\n",
    "    # The array is already filled with zeros    \n",
    "    # kr[imin] = 0 \n",
    "    kr[i] = dkr_w(Sw[i])\n",
    "    \n",
    "    return kr\n",
    "\n",
    "def d_krofunc(Sw):\n",
    "    ''' Oil relative permeambility\n",
    "    Argument: Sw (np.array)'''\n",
    "    So = 1 - Sw\n",
    "    kr = np.zeros_like(So)\n",
    "    imin = So <= Somin\n",
    "    imax = So >= Somax\n",
    "    i = np.logical_not(np.logical_or(imin, imax))\n",
    "    # The array is already filled with zeros\n",
    "    # kr[imin] = 0\n",
    "    kr[i] = dkr_o(So[i])\n",
    "    \n",
    "    return kr\n",
    "\n",
    "# For this model, there is zero capillary pressure\n",
    "pc = lambda Sw: 0 * Sw\n",
    "\n",
    "fluid = blackOil((miu_o, miu_w), (rho_o, rho_w),\n",
    "                 (fvf_o, fvf_w), (cf_o, cf_w), (krofunc, krwfunc), pc)\n",
    "\n",
    "fluid.oilphase.d_kr = d_krofunc\n",
    "fluid.waterphase.d_kr = d_krwfunc\n",
    "\n",
    "# SCHEDULE\n",
    "t1 = 0.1 * np.ones(100) * u.day\n",
    "t2 = 0.5 * np.ones(100) * u.day\n",
    "t3 = 1 * np.ones(50) * u.day\n",
    "t4 = 2 * np.ones(50) * u.day\n",
    "#t4 = 3 * np.ones(50) * u.day\n",
    "\n",
    "timesteps = np.hstack((t1,t2,t3))\n",
    "sch = Schedule(timesteps[:])\n",
    "\n",
    "# BOUNDARY'S\n",
    "boundary = Boundary()\n",
    "\n",
    "# INITIAL CONDITIONS\n",
    "p_init = 3000 * u.psi * np.ones([grid.cellnumber, ])\n",
    "sw_init = 0.2 * np.ones([grid.cellnumber, ])\n",
    "\n",
    "# WELLS\n",
    "# Producer well\n",
    "wells = Wells(grid, rock, fluid)\n",
    "ci = Nx * Ny - 1\n",
    "wells.add_vertical_well(0.35 * u.feet, ci, 2900 * u.psi, 0, 'Producer')\n",
    "# Water injection well\n",
    "source = np.zeros([grid.cellnumber * fluid.phasenumber, 1])\n",
    "source[0] = -300 * u.barrel / u.day\n",
    "\n",
    "# INITIALIZE SIMULATOR\n",
    "FIM = ImplicitTwoPhase(\n",
    "    grid, rock, fluid, wells, source, p_init, sw_init, boundary, gravity=True)\n",
    "\n",
    "# RUN SIMULATION\n",
    "results, well_solution, sch, info = FIM.solve(sch, max_iter= 10, tol = 1E-6, ATS = False)"
   ]
  },
  {
   "cell_type": "code",
   "execution_count": 4,
   "metadata": {
    "collapsed": false
   },
   "outputs": [
    {
     "name": "stderr",
     "output_type": "stream",
     "text": [
      "C:\\Users\\Jaime\\Anaconda3\\lib\\site-packages\\matplotlib\\figure.py:1718: UserWarning: This figure includes Axes that are not compatible with tight_layout, so its results might be incorrect.\n",
      "  warnings.warn(\"This figure includes Axes that are not \"\n"
     ]
    }
   ],
   "source": [
    "# We will  save a plot for each timestep and then use \n",
    "# ffmpeg to create a gif\n",
    "acum_sum = np.cumsum(sch.timesteps) / u.day\n",
    "acum_sum = np.hstack((0, acum_sum))\n",
    "\n",
    "#Transform results to psi\n",
    "p_oil = results['p_oil'][:,:]/ u.psi\n",
    "sw = results['sw'][:,:]\n",
    "\n",
    "for k in np.arange(0, acum_sum.size, 1):\n",
    "    plotCellValues2D(grid, p_oil[:, k], 'inferno', np.min(p_oil), np.max(p_oil),\n",
    "                     title='Oil pressure. {:.3f} days'.format(acum_sum[k]), \n",
    "                     filename='{}\\\\2ph_ex1_po_{}'.format(imgpath,k))\n",
    "\n",
    "for k in np.arange(0, acum_sum.size, 1):\n",
    "    plotCellValues2D(grid, sw[:, k], 'plasma', np.min(sw), np.max(sw),\n",
    "                     title='Water saturation. {:.3f} days'.format(acum_sum[k]), \n",
    "                     filename='{}\\\\2ph_ex1_sw_{}'.format(imgpath,k))"
   ]
  },
  {
   "cell_type": "markdown",
   "metadata": {},
   "source": [
    "<a id=\"ex2\"></a>"
   ]
  },
  {
   "cell_type": "markdown",
   "metadata": {},
   "source": [
    "## [Example 2](#table)\n",
    "\n",
    "For the second example we will use the same conditions as the [Example 1](#ex1), but we will add a second water injector. Also, we will modify the permeability of the lower layer, creating a zone of lower peameability."
   ]
  },
  {
   "cell_type": "code",
   "execution_count": 7,
   "metadata": {
    "collapsed": false
   },
   "outputs": [
    {
     "name": "stdout",
     "output_type": "stream",
     "text": [
      "  \t Newton-Raphson solver :  2/10. Error: 5.62E-13"
     ]
    }
   ],
   "source": [
    "# ROCK\n",
    "perm = 100 * np.ones([grid.cellnumber, ]) * u.milli * u.darcy\n",
    "# Low permeability cells\n",
    "perm[[26, 36, 37, 48, 47]] = 1 *u.milli *u.darcy\n",
    "poro = 0.15 * np.ones([grid.cellnumber, ])\n",
    "# Rock compressibility equal for all cells\n",
    "cr = 3E-6 / u.psi\n",
    "porofunc = lambda p: poro * np.exp(cr * (p - 2800 * u.psi))\n",
    "rock = Rock(perm, poro, cr, porofunc)\n",
    "\n",
    "\n",
    "# WELLS\n",
    "# Producer well\n",
    "wells = Wells(grid, rock, fluid)\n",
    "ci = Nx * (Ny-1) - 5\n",
    "wells.add_vertical_well(0.35 * u.feet, ci, 2900 * u.psi, 0, 'Producer')\n",
    "\n",
    "# Water injection well\n",
    "source = np.zeros([grid.cellnumber * fluid.phasenumber, 1])\n",
    "# Two water injectors  in cell 18 and cell 11.\n",
    "# The water term is on (cellnumber * 2)\n",
    "# The oil term is on (cellnumber * 2 + 1)\n",
    "source[22] = -150 * u.barrel / u.day\n",
    "source[36] = -170 * u.barrel / u.day\n",
    "\n",
    "# INITIALIZE SIMULATOR\n",
    "FIM = ImplicitTwoPhase(\n",
    "    grid, rock, fluid, wells, source, p_init, sw_init, boundary, gravity=True)\n",
    "\n",
    "# RUN SIMULATION\n",
    "results, well_solution, sch, info = FIM.solve(sch, max_iter= 10, tol = 1E-6, ATS = False)"
   ]
  },
  {
   "cell_type": "code",
   "execution_count": 8,
   "metadata": {
    "collapsed": false
   },
   "outputs": [
    {
     "name": "stderr",
     "output_type": "stream",
     "text": [
      "C:\\Users\\Jaime\\Anaconda3\\lib\\site-packages\\matplotlib\\figure.py:1718: UserWarning: This figure includes Axes that are not compatible with tight_layout, so its results might be incorrect.\n",
      "  warnings.warn(\"This figure includes Axes that are not \"\n"
     ]
    }
   ],
   "source": [
    "# Plot the rock permeability\n",
    "permtoplot = np.log(rock.perm / u.darcy / u.milli)\n",
    "plotCellValues2D(grid, permtoplot, 'viridis', \n",
    "                 np.min(permtoplot), np.max(permtoplot), \n",
    "                 title='Permeability Ln[mD]', filename = \".\\\\images\\\\2ph_ex2_perm\")"
   ]
  },
  {
   "cell_type": "code",
   "execution_count": 9,
   "metadata": {
    "collapsed": false
   },
   "outputs": [
    {
     "name": "stderr",
     "output_type": "stream",
     "text": [
      "C:\\Users\\Jaime\\Anaconda3\\lib\\site-packages\\matplotlib\\figure.py:1718: UserWarning: This figure includes Axes that are not compatible with tight_layout, so its results might be incorrect.\n",
      "  warnings.warn(\"This figure includes Axes that are not \"\n"
     ]
    }
   ],
   "source": [
    "# We will  save a plot for each timestep and then use \n",
    "# ffmpeg to create a gif\n",
    "acum_sum = np.cumsum(sch.timesteps) / u.day\n",
    "acum_sum = np.hstack((0, acum_sum))\n",
    "\n",
    "#Transform results to psi\n",
    "p_oil = results['p_oil'][:,:]/ u.psi\n",
    "sw = results['sw'][:,:]\n",
    "\n",
    "for k in np.arange(0, acum_sum.size, 1):\n",
    "    plotCellValues2D(grid, p_oil[:, k], 'inferno', np.min(p_oil), np.max(p_oil),\n",
    "                     title='Oil pressure. {:.3f} days'.format(acum_sum[k]), \n",
    "                     filename='{}\\\\2ph_ex2_po_{}'.format(imgpath,k))\n",
    "\n",
    "for k in np.arange(0, acum_sum.size, 1):\n",
    "    plotCellValues2D(grid, sw[:, k], 'plasma', np.min(sw), np.max(sw),\n",
    "                     title='Water saturation. {:.3f} days'.format(acum_sum[k]), \n",
    "                     filename='{}\\\\2ph_ex2_sw_{}'.format(imgpath,k))"
   ]
  },
  {
   "cell_type": "markdown",
   "metadata": {},
   "source": [
    "### [To the top](#top)"
   ]
  },
  {
   "cell_type": "code",
   "execution_count": 10,
   "metadata": {
    "collapsed": false
   },
   "outputs": [
    {
     "data": {
      "text/html": [
       "<link href='http://fonts.googleapis.com/css?family=Fenix' rel='stylesheet' type='text/css'>\n",
       "<link href='http://fonts.googleapis.com/css?family=Alegreya+Sans:100,300,400,500,700,800,900,100italic,300italic,400italic,500italic,700italic,800italic,900italic' rel='stylesheet' type='text/css'>\n",
       "<link href='http://fonts.googleapis.com/css?family=Source+Code+Pro:300,400' rel='stylesheet' type='text/css'>\n",
       "<style>\n",
       "    @font-face {\n",
       "        font-family: \"Computer Modern\";\n",
       "        src: url('http://mirrors.ctan.org/fonts/cm-unicode/fonts/otf/cmunss.otf');\n",
       "    }\n",
       "    div.cell{\n",
       "        width:800px;\n",
       "        margin-left:16% !important;\n",
       "        margin-right:auto;\n",
       "    }\n",
       "    h1 {\n",
       "        font-family: 'Alegreya Sans', sans-serif;\n",
       "    }\n",
       "    h2 {\n",
       "        font-family: 'Fenix', serif;\n",
       "    }\n",
       "    h3{\n",
       "\t\tfont-family: 'Fenix', serif;\n",
       "        margin-top:12px;\n",
       "        margin-bottom: 3px;\n",
       "       }\n",
       "\th4{\n",
       "\t\tfont-family: 'Fenix', serif;\n",
       "       }\n",
       "    h5 {\n",
       "        font-family: 'Alegreya Sans', sans-serif;\n",
       "    }\t   \n",
       "    div.text_cell_render{\n",
       "        font-family: 'Alegreya Sans',Computer Modern, \"Helvetica Neue\", Arial, Helvetica, Geneva, sans-serif;\n",
       "        line-height: 135%;\n",
       "        font-size: 120%;\n",
       "        width:600px;\n",
       "        margin-left:auto;\n",
       "        margin-right:auto;\n",
       "    }\n",
       "    .CodeMirror{\n",
       "            font-family: \"Source Code Pro\";\n",
       "\t\t\tfont-size: 90%;\n",
       "    }\n",
       "/*    .prompt{\n",
       "        display: None;\n",
       "    }*/\n",
       "    .text_cell_render h1 {\n",
       "        font-weight: 200;\n",
       "        font-size: 50pt;\n",
       "\t\tline-height: 100%;\n",
       "        color:#CD2305;\n",
       "        margin-bottom: 0.5em;\n",
       "        margin-top: 0.5em;\n",
       "        display: block;\n",
       "    }\t\n",
       "    .text_cell_render h5 {\n",
       "        font-weight: 300;\n",
       "        font-size: 16pt;\n",
       "        color: #CD2305;\n",
       "        font-style: italic;\n",
       "        margin-bottom: .5em;\n",
       "        margin-top: 0.5em;\n",
       "        display: block;\n",
       "    }\n",
       "    \n",
       "    .warning{\n",
       "        color: rgb( 240, 20, 20 )\n",
       "        }  \n",
       "</style>\n",
       "<script>\n",
       "    MathJax.Hub.Config({\n",
       "                        TeX: {\n",
       "                           extensions: [\"AMSmath.js\"]\n",
       "                           },\n",
       "                tex2jax: {\n",
       "                    inlineMath: [ ['$','$'], [\"\\\\(\",\"\\\\)\"] ],\n",
       "                    displayMath: [ ['$$','$$'], [\"\\\\[\",\"\\\\]\"] ]\n",
       "                },\n",
       "                displayAlign: 'center', // Change this to 'center' to center equations.\n",
       "                \"HTML-CSS\": {\n",
       "                    styles: {'.MathJax_Display': {\"margin\": 4}}\n",
       "                }\n",
       "        });\n",
       "</script>\n",
       "\n"
      ],
      "text/plain": [
       "<IPython.core.display.HTML object>"
      ]
     },
     "execution_count": 10,
     "metadata": {},
     "output_type": "execute_result"
    }
   ],
   "source": [
    "from IPython.core.display import HTML\n",
    "def css_styling():\n",
    "    styles = open(\"./styles/custom.css\", \"r\").read()\n",
    "    return HTML(styles)\n",
    "css_styling()\n",
    "\n",
    "# Using the style sheet found here  Lorena Barba /* https://github.com/barbagroup/CFDPython/blob/master/styles/custom.css */"
   ]
  }
 ],
 "metadata": {
  "kernelspec": {
   "display_name": "Python 3",
   "language": "python",
   "name": "python3"
  },
  "language_info": {
   "codemirror_mode": {
    "name": "ipython",
    "version": 3
   },
   "file_extension": ".py",
   "mimetype": "text/x-python",
   "name": "python",
   "nbconvert_exporter": "python",
   "pygments_lexer": "ipython3",
   "version": "3.5.1"
  }
 },
 "nbformat": 4,
 "nbformat_minor": 0
}
